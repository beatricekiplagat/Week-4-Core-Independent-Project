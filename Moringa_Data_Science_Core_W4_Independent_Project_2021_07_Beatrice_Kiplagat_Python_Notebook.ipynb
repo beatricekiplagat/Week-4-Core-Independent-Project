{
  "nbformat": 4,
  "nbformat_minor": 0,
  "metadata": {
    "colab": {
      "name": "Moringa_Data_Science_Core_W4_Independent_Project_2021_07_Beatrice_Kiplagat.Python Notebook",
      "provenance": [],
      "collapsed_sections": [
        "rF2ABPsHUtbZ",
        "vTbdjSrhVIiT",
        "lQ2G4ZPDVOXE",
        "xrmHVMVsVS--",
        "HPQviDmNtta8",
        "qjFHK1CKty7o",
        "HSsicSdvt4Zs"
      ],
      "include_colab_link": true
    },
    "kernelspec": {
      "name": "python3",
      "display_name": "Python 3"
    }
  },
  "cells": [
    {
      "cell_type": "markdown",
      "metadata": {
        "id": "view-in-github",
        "colab_type": "text"
      },
      "source": [
        "<a href=\"https://colab.research.google.com/github/beatricekiplagat/Week-4-Core-Independent-Project/blob/main/Moringa_Data_Science_Core_W4_Independent_Project_2021_07_Beatrice_Kiplagat_Python_Notebook.ipynb\" target=\"_parent\"><img src=\"https://colab.research.google.com/assets/colab-badge.svg\" alt=\"Open In Colab\"/></a>"
      ]
    },
    {
      "cell_type": "markdown",
      "metadata": {
        "id": "xMxtPsqcTsSH"
      },
      "source": [
        "# Autolib Electric Car-Sharing Service Company\n"
      ]
    },
    {
      "cell_type": "markdown",
      "metadata": {
        "id": "kLG2VTrnTvYL"
      },
      "source": [
        "## 1. Defining the Question\n"
      ]
    },
    {
      "cell_type": "markdown",
      "metadata": {
        "id": "UhNm8_S6sdC0"
      },
      "source": [
        "As a Data Scientist for the Autolib electric car-sharing service company, I have been tasked to investigate a claim that on average, only all clients who take blue cars over the weekend, will return them during the weekend. The rest will return them during weekdays. Thus, we would like to check if the mean number of blue cars taken on Saturday/Sunday is equal to the mean number of blue cars returned on Saturday/Sunday, from the provided Autolib dataset.\n",
        "\n",
        "In an effort to do this, we need to identify some areas of interest via sampling stating the reason to the choice of method, then perform hypothesis testing with regards to the claim that we will have made.\n",
        "\n",
        "To work on this project, we will perform the following analysis with Python; \n",
        "\n",
        "1. Find and deal with outliers, anomalies, and missing data within the dataset.\n",
        "2. Plot appropriate univariate and bivariate summaries recording our observations.\n",
        "3. Implement the solution by performing hypothesis testing.\n",
        "\n",
        "\n"
      ]
    },
    {
      "cell_type": "markdown",
      "metadata": {
        "id": "XecOwPNorl2W"
      },
      "source": [
        "##2. Specifying the Hypotheses\n"
      ]
    },
    {
      "cell_type": "markdown",
      "metadata": {
        "id": "RbsGcBQpvHDs"
      },
      "source": [
        "> H₀ :μ(Blue Cars taken on weekend) = μ(Blue Cars returned on weekend)      \n",
        " H₁ :μ(Blue Cars taken on weekend) ≠ μ(Blue Cars returned on weekend)"
      ]
    },
    {
      "cell_type": "markdown",
      "metadata": {
        "id": "iUNbvIvnT7ep"
      },
      "source": [
        "## 3. Reading the Data"
      ]
    },
    {
      "cell_type": "code",
      "metadata": {
        "id": "XJn2KjW-WMlG",
        "colab": {
          "base_uri": "https://localhost:8080/",
          "height": 456
        },
        "outputId": "84cb5a16-baa8-413c-92c1-ef7b3809a1d4"
      },
      "source": [
        "# Loading the Data from the source \n",
        "# ---\n",
        "# Dataset url = http://bit.ly/2017ACTScoresDataset\n",
        "# ---\n",
        "#\n",
        "import pandas as pd\n",
        "import numpy as np\n",
        "import seaborn as sns\n",
        "import matplotlib \n",
        "from matplotlib import pyplot as plt\n",
        "import scipy.stats as stats\n",
        "from scipy import stats\n",
        "import statsmodels.api as sm\n",
        "\n",
        "df = pd.read_csv('http://bit.ly/DSCoreAutolibDataset')\n",
        "df"
      ],
      "execution_count": 103,
      "outputs": [
        {
          "output_type": "execute_result",
          "data": {
            "text/html": [
              "<div>\n",
              "<style scoped>\n",
              "    .dataframe tbody tr th:only-of-type {\n",
              "        vertical-align: middle;\n",
              "    }\n",
              "\n",
              "    .dataframe tbody tr th {\n",
              "        vertical-align: top;\n",
              "    }\n",
              "\n",
              "    .dataframe thead th {\n",
              "        text-align: right;\n",
              "    }\n",
              "</style>\n",
              "<table border=\"1\" class=\"dataframe\">\n",
              "  <thead>\n",
              "    <tr style=\"text-align: right;\">\n",
              "      <th></th>\n",
              "      <th>Postal code</th>\n",
              "      <th>date</th>\n",
              "      <th>n_daily_data_points</th>\n",
              "      <th>dayOfWeek</th>\n",
              "      <th>day_type</th>\n",
              "      <th>BlueCars_taken_sum</th>\n",
              "      <th>BlueCars_returned_sum</th>\n",
              "      <th>Utilib_taken_sum</th>\n",
              "      <th>Utilib_returned_sum</th>\n",
              "      <th>Utilib_14_taken_sum</th>\n",
              "      <th>Utilib_14_returned_sum</th>\n",
              "      <th>Slots_freed_sum</th>\n",
              "      <th>Slots_taken_sum</th>\n",
              "    </tr>\n",
              "  </thead>\n",
              "  <tbody>\n",
              "    <tr>\n",
              "      <th>0</th>\n",
              "      <td>75001</td>\n",
              "      <td>1/1/2018</td>\n",
              "      <td>1440</td>\n",
              "      <td>0</td>\n",
              "      <td>weekday</td>\n",
              "      <td>110</td>\n",
              "      <td>103</td>\n",
              "      <td>3</td>\n",
              "      <td>2</td>\n",
              "      <td>10</td>\n",
              "      <td>9</td>\n",
              "      <td>22</td>\n",
              "      <td>20</td>\n",
              "    </tr>\n",
              "    <tr>\n",
              "      <th>1</th>\n",
              "      <td>75001</td>\n",
              "      <td>1/2/2018</td>\n",
              "      <td>1438</td>\n",
              "      <td>1</td>\n",
              "      <td>weekday</td>\n",
              "      <td>98</td>\n",
              "      <td>94</td>\n",
              "      <td>1</td>\n",
              "      <td>1</td>\n",
              "      <td>8</td>\n",
              "      <td>8</td>\n",
              "      <td>23</td>\n",
              "      <td>22</td>\n",
              "    </tr>\n",
              "    <tr>\n",
              "      <th>2</th>\n",
              "      <td>75001</td>\n",
              "      <td>1/3/2018</td>\n",
              "      <td>1439</td>\n",
              "      <td>2</td>\n",
              "      <td>weekday</td>\n",
              "      <td>138</td>\n",
              "      <td>139</td>\n",
              "      <td>0</td>\n",
              "      <td>0</td>\n",
              "      <td>2</td>\n",
              "      <td>2</td>\n",
              "      <td>27</td>\n",
              "      <td>27</td>\n",
              "    </tr>\n",
              "    <tr>\n",
              "      <th>3</th>\n",
              "      <td>75001</td>\n",
              "      <td>1/4/2018</td>\n",
              "      <td>1320</td>\n",
              "      <td>3</td>\n",
              "      <td>weekday</td>\n",
              "      <td>104</td>\n",
              "      <td>104</td>\n",
              "      <td>2</td>\n",
              "      <td>2</td>\n",
              "      <td>9</td>\n",
              "      <td>8</td>\n",
              "      <td>25</td>\n",
              "      <td>21</td>\n",
              "    </tr>\n",
              "    <tr>\n",
              "      <th>4</th>\n",
              "      <td>75001</td>\n",
              "      <td>1/5/2018</td>\n",
              "      <td>1440</td>\n",
              "      <td>4</td>\n",
              "      <td>weekday</td>\n",
              "      <td>114</td>\n",
              "      <td>117</td>\n",
              "      <td>3</td>\n",
              "      <td>3</td>\n",
              "      <td>6</td>\n",
              "      <td>6</td>\n",
              "      <td>18</td>\n",
              "      <td>20</td>\n",
              "    </tr>\n",
              "    <tr>\n",
              "      <th>...</th>\n",
              "      <td>...</td>\n",
              "      <td>...</td>\n",
              "      <td>...</td>\n",
              "      <td>...</td>\n",
              "      <td>...</td>\n",
              "      <td>...</td>\n",
              "      <td>...</td>\n",
              "      <td>...</td>\n",
              "      <td>...</td>\n",
              "      <td>...</td>\n",
              "      <td>...</td>\n",
              "      <td>...</td>\n",
              "      <td>...</td>\n",
              "    </tr>\n",
              "    <tr>\n",
              "      <th>16080</th>\n",
              "      <td>95880</td>\n",
              "      <td>6/15/2018</td>\n",
              "      <td>1440</td>\n",
              "      <td>4</td>\n",
              "      <td>weekday</td>\n",
              "      <td>15</td>\n",
              "      <td>10</td>\n",
              "      <td>0</td>\n",
              "      <td>0</td>\n",
              "      <td>2</td>\n",
              "      <td>3</td>\n",
              "      <td>0</td>\n",
              "      <td>0</td>\n",
              "    </tr>\n",
              "    <tr>\n",
              "      <th>16081</th>\n",
              "      <td>95880</td>\n",
              "      <td>6/16/2018</td>\n",
              "      <td>1440</td>\n",
              "      <td>5</td>\n",
              "      <td>weekend</td>\n",
              "      <td>19</td>\n",
              "      <td>19</td>\n",
              "      <td>0</td>\n",
              "      <td>0</td>\n",
              "      <td>2</td>\n",
              "      <td>1</td>\n",
              "      <td>0</td>\n",
              "      <td>0</td>\n",
              "    </tr>\n",
              "    <tr>\n",
              "      <th>16082</th>\n",
              "      <td>95880</td>\n",
              "      <td>6/17/2018</td>\n",
              "      <td>1440</td>\n",
              "      <td>6</td>\n",
              "      <td>weekend</td>\n",
              "      <td>33</td>\n",
              "      <td>35</td>\n",
              "      <td>1</td>\n",
              "      <td>1</td>\n",
              "      <td>0</td>\n",
              "      <td>0</td>\n",
              "      <td>0</td>\n",
              "      <td>0</td>\n",
              "    </tr>\n",
              "    <tr>\n",
              "      <th>16083</th>\n",
              "      <td>95880</td>\n",
              "      <td>6/18/2018</td>\n",
              "      <td>1440</td>\n",
              "      <td>0</td>\n",
              "      <td>weekday</td>\n",
              "      <td>11</td>\n",
              "      <td>14</td>\n",
              "      <td>3</td>\n",
              "      <td>5</td>\n",
              "      <td>2</td>\n",
              "      <td>2</td>\n",
              "      <td>0</td>\n",
              "      <td>0</td>\n",
              "    </tr>\n",
              "    <tr>\n",
              "      <th>16084</th>\n",
              "      <td>95880</td>\n",
              "      <td>6/19/2018</td>\n",
              "      <td>1370</td>\n",
              "      <td>1</td>\n",
              "      <td>weekday</td>\n",
              "      <td>2</td>\n",
              "      <td>2</td>\n",
              "      <td>2</td>\n",
              "      <td>1</td>\n",
              "      <td>0</td>\n",
              "      <td>0</td>\n",
              "      <td>0</td>\n",
              "      <td>0</td>\n",
              "    </tr>\n",
              "  </tbody>\n",
              "</table>\n",
              "<p>16085 rows × 13 columns</p>\n",
              "</div>"
            ],
            "text/plain": [
              "       Postal code       date  ...  Slots_freed_sum  Slots_taken_sum\n",
              "0            75001   1/1/2018  ...               22               20\n",
              "1            75001   1/2/2018  ...               23               22\n",
              "2            75001   1/3/2018  ...               27               27\n",
              "3            75001   1/4/2018  ...               25               21\n",
              "4            75001   1/5/2018  ...               18               20\n",
              "...            ...        ...  ...              ...              ...\n",
              "16080        95880  6/15/2018  ...                0                0\n",
              "16081        95880  6/16/2018  ...                0                0\n",
              "16082        95880  6/17/2018  ...                0                0\n",
              "16083        95880  6/18/2018  ...                0                0\n",
              "16084        95880  6/19/2018  ...                0                0\n",
              "\n",
              "[16085 rows x 13 columns]"
            ]
          },
          "metadata": {
            "tags": []
          },
          "execution_count": 103
        }
      ]
    },
    {
      "cell_type": "markdown",
      "metadata": {
        "id": "OI3P3YnHUEBk"
      },
      "source": [
        "## 4. Checking the Data"
      ]
    },
    {
      "cell_type": "code",
      "metadata": {
        "id": "YjSVNwgptHxY",
        "colab": {
          "base_uri": "https://localhost:8080/"
        },
        "outputId": "39e51628-2a97-4ef5-e677-e7861b0b4d35"
      },
      "source": [
        "# Determining the no. of records in our dataset\n",
        "#\n",
        "df.shape"
      ],
      "execution_count": 104,
      "outputs": [
        {
          "output_type": "execute_result",
          "data": {
            "text/plain": [
              "(16085, 13)"
            ]
          },
          "metadata": {
            "tags": []
          },
          "execution_count": 104
        }
      ]
    },
    {
      "cell_type": "markdown",
      "metadata": {
        "id": "BwZEjJxE2-o5"
      },
      "source": [
        "> Our dataset has 16,085 rows and 13 columns"
      ]
    },
    {
      "cell_type": "code",
      "metadata": {
        "colab": {
          "base_uri": "https://localhost:8080/"
        },
        "id": "8MFw33lQ3JKr",
        "outputId": "8d16b26e-7d94-4ae8-de7f-3f075d5d83de"
      },
      "source": [
        "# Detecting our column names\n",
        "#\n",
        "df.columns"
      ],
      "execution_count": 105,
      "outputs": [
        {
          "output_type": "execute_result",
          "data": {
            "text/plain": [
              "Index(['Postal code', 'date', 'n_daily_data_points', 'dayOfWeek', 'day_type',\n",
              "       'BlueCars_taken_sum', 'BlueCars_returned_sum', 'Utilib_taken_sum',\n",
              "       'Utilib_returned_sum', 'Utilib_14_taken_sum', 'Utilib_14_returned_sum',\n",
              "       'Slots_freed_sum', 'Slots_taken_sum'],\n",
              "      dtype='object')"
            ]
          },
          "metadata": {
            "tags": []
          },
          "execution_count": 105
        }
      ]
    },
    {
      "cell_type": "markdown",
      "metadata": {
        "id": "dwc6j_BO3OEV"
      },
      "source": [
        "> The column names of our dataset are 'Postal code', 'date', 'n_daily_data_points', 'dayOfWeek', 'day_type', 'BlueCars_taken_sum', 'BlueCars_returned_sum', 'Utilib_taken_sum', 'Utilib_returned_sum', 'Utilib_14_taken_sum', 'Utilib_14_returned_sum', 'Slots_freed_sum', 'Slots_taken_sum'"
      ]
    },
    {
      "cell_type": "code",
      "metadata": {
        "id": "xHhTw5eKWr0n",
        "colab": {
          "base_uri": "https://localhost:8080/",
          "height": 396
        },
        "outputId": "c4dadb7a-ec07-4d70-8220-60fea0f6f49e"
      },
      "source": [
        "# Previewing the top of our dataset\n",
        "#\n",
        "df.head(10)"
      ],
      "execution_count": 106,
      "outputs": [
        {
          "output_type": "execute_result",
          "data": {
            "text/html": [
              "<div>\n",
              "<style scoped>\n",
              "    .dataframe tbody tr th:only-of-type {\n",
              "        vertical-align: middle;\n",
              "    }\n",
              "\n",
              "    .dataframe tbody tr th {\n",
              "        vertical-align: top;\n",
              "    }\n",
              "\n",
              "    .dataframe thead th {\n",
              "        text-align: right;\n",
              "    }\n",
              "</style>\n",
              "<table border=\"1\" class=\"dataframe\">\n",
              "  <thead>\n",
              "    <tr style=\"text-align: right;\">\n",
              "      <th></th>\n",
              "      <th>Postal code</th>\n",
              "      <th>date</th>\n",
              "      <th>n_daily_data_points</th>\n",
              "      <th>dayOfWeek</th>\n",
              "      <th>day_type</th>\n",
              "      <th>BlueCars_taken_sum</th>\n",
              "      <th>BlueCars_returned_sum</th>\n",
              "      <th>Utilib_taken_sum</th>\n",
              "      <th>Utilib_returned_sum</th>\n",
              "      <th>Utilib_14_taken_sum</th>\n",
              "      <th>Utilib_14_returned_sum</th>\n",
              "      <th>Slots_freed_sum</th>\n",
              "      <th>Slots_taken_sum</th>\n",
              "    </tr>\n",
              "  </thead>\n",
              "  <tbody>\n",
              "    <tr>\n",
              "      <th>0</th>\n",
              "      <td>75001</td>\n",
              "      <td>1/1/2018</td>\n",
              "      <td>1440</td>\n",
              "      <td>0</td>\n",
              "      <td>weekday</td>\n",
              "      <td>110</td>\n",
              "      <td>103</td>\n",
              "      <td>3</td>\n",
              "      <td>2</td>\n",
              "      <td>10</td>\n",
              "      <td>9</td>\n",
              "      <td>22</td>\n",
              "      <td>20</td>\n",
              "    </tr>\n",
              "    <tr>\n",
              "      <th>1</th>\n",
              "      <td>75001</td>\n",
              "      <td>1/2/2018</td>\n",
              "      <td>1438</td>\n",
              "      <td>1</td>\n",
              "      <td>weekday</td>\n",
              "      <td>98</td>\n",
              "      <td>94</td>\n",
              "      <td>1</td>\n",
              "      <td>1</td>\n",
              "      <td>8</td>\n",
              "      <td>8</td>\n",
              "      <td>23</td>\n",
              "      <td>22</td>\n",
              "    </tr>\n",
              "    <tr>\n",
              "      <th>2</th>\n",
              "      <td>75001</td>\n",
              "      <td>1/3/2018</td>\n",
              "      <td>1439</td>\n",
              "      <td>2</td>\n",
              "      <td>weekday</td>\n",
              "      <td>138</td>\n",
              "      <td>139</td>\n",
              "      <td>0</td>\n",
              "      <td>0</td>\n",
              "      <td>2</td>\n",
              "      <td>2</td>\n",
              "      <td>27</td>\n",
              "      <td>27</td>\n",
              "    </tr>\n",
              "    <tr>\n",
              "      <th>3</th>\n",
              "      <td>75001</td>\n",
              "      <td>1/4/2018</td>\n",
              "      <td>1320</td>\n",
              "      <td>3</td>\n",
              "      <td>weekday</td>\n",
              "      <td>104</td>\n",
              "      <td>104</td>\n",
              "      <td>2</td>\n",
              "      <td>2</td>\n",
              "      <td>9</td>\n",
              "      <td>8</td>\n",
              "      <td>25</td>\n",
              "      <td>21</td>\n",
              "    </tr>\n",
              "    <tr>\n",
              "      <th>4</th>\n",
              "      <td>75001</td>\n",
              "      <td>1/5/2018</td>\n",
              "      <td>1440</td>\n",
              "      <td>4</td>\n",
              "      <td>weekday</td>\n",
              "      <td>114</td>\n",
              "      <td>117</td>\n",
              "      <td>3</td>\n",
              "      <td>3</td>\n",
              "      <td>6</td>\n",
              "      <td>6</td>\n",
              "      <td>18</td>\n",
              "      <td>20</td>\n",
              "    </tr>\n",
              "    <tr>\n",
              "      <th>5</th>\n",
              "      <td>75001</td>\n",
              "      <td>1/6/2018</td>\n",
              "      <td>1437</td>\n",
              "      <td>5</td>\n",
              "      <td>weekend</td>\n",
              "      <td>187</td>\n",
              "      <td>185</td>\n",
              "      <td>6</td>\n",
              "      <td>6</td>\n",
              "      <td>7</td>\n",
              "      <td>8</td>\n",
              "      <td>38</td>\n",
              "      <td>35</td>\n",
              "    </tr>\n",
              "    <tr>\n",
              "      <th>6</th>\n",
              "      <td>75001</td>\n",
              "      <td>1/7/2018</td>\n",
              "      <td>1440</td>\n",
              "      <td>6</td>\n",
              "      <td>weekend</td>\n",
              "      <td>180</td>\n",
              "      <td>180</td>\n",
              "      <td>2</td>\n",
              "      <td>2</td>\n",
              "      <td>10</td>\n",
              "      <td>9</td>\n",
              "      <td>34</td>\n",
              "      <td>34</td>\n",
              "    </tr>\n",
              "    <tr>\n",
              "      <th>7</th>\n",
              "      <td>75001</td>\n",
              "      <td>1/8/2018</td>\n",
              "      <td>1438</td>\n",
              "      <td>0</td>\n",
              "      <td>weekday</td>\n",
              "      <td>84</td>\n",
              "      <td>83</td>\n",
              "      <td>3</td>\n",
              "      <td>3</td>\n",
              "      <td>10</td>\n",
              "      <td>10</td>\n",
              "      <td>14</td>\n",
              "      <td>15</td>\n",
              "    </tr>\n",
              "    <tr>\n",
              "      <th>8</th>\n",
              "      <td>75001</td>\n",
              "      <td>1/9/2018</td>\n",
              "      <td>1439</td>\n",
              "      <td>1</td>\n",
              "      <td>weekday</td>\n",
              "      <td>81</td>\n",
              "      <td>84</td>\n",
              "      <td>1</td>\n",
              "      <td>1</td>\n",
              "      <td>4</td>\n",
              "      <td>4</td>\n",
              "      <td>15</td>\n",
              "      <td>15</td>\n",
              "    </tr>\n",
              "    <tr>\n",
              "      <th>9</th>\n",
              "      <td>75001</td>\n",
              "      <td>1/10/2018</td>\n",
              "      <td>1440</td>\n",
              "      <td>2</td>\n",
              "      <td>weekday</td>\n",
              "      <td>88</td>\n",
              "      <td>85</td>\n",
              "      <td>5</td>\n",
              "      <td>5</td>\n",
              "      <td>11</td>\n",
              "      <td>11</td>\n",
              "      <td>23</td>\n",
              "      <td>22</td>\n",
              "    </tr>\n",
              "  </tbody>\n",
              "</table>\n",
              "</div>"
            ],
            "text/plain": [
              "   Postal code       date  ...  Slots_freed_sum  Slots_taken_sum\n",
              "0        75001   1/1/2018  ...               22               20\n",
              "1        75001   1/2/2018  ...               23               22\n",
              "2        75001   1/3/2018  ...               27               27\n",
              "3        75001   1/4/2018  ...               25               21\n",
              "4        75001   1/5/2018  ...               18               20\n",
              "5        75001   1/6/2018  ...               38               35\n",
              "6        75001   1/7/2018  ...               34               34\n",
              "7        75001   1/8/2018  ...               14               15\n",
              "8        75001   1/9/2018  ...               15               15\n",
              "9        75001  1/10/2018  ...               23               22\n",
              "\n",
              "[10 rows x 13 columns]"
            ]
          },
          "metadata": {
            "tags": []
          },
          "execution_count": 106
        }
      ]
    },
    {
      "cell_type": "code",
      "metadata": {
        "id": "e9AzGcZFrIIr",
        "colab": {
          "base_uri": "https://localhost:8080/",
          "height": 396
        },
        "outputId": "cba54434-81e3-40b2-9b8d-0e3f44a6b6b7"
      },
      "source": [
        "# Previewing the bottom of our dataset\n",
        "# \n",
        "df.tail(10)"
      ],
      "execution_count": 107,
      "outputs": [
        {
          "output_type": "execute_result",
          "data": {
            "text/html": [
              "<div>\n",
              "<style scoped>\n",
              "    .dataframe tbody tr th:only-of-type {\n",
              "        vertical-align: middle;\n",
              "    }\n",
              "\n",
              "    .dataframe tbody tr th {\n",
              "        vertical-align: top;\n",
              "    }\n",
              "\n",
              "    .dataframe thead th {\n",
              "        text-align: right;\n",
              "    }\n",
              "</style>\n",
              "<table border=\"1\" class=\"dataframe\">\n",
              "  <thead>\n",
              "    <tr style=\"text-align: right;\">\n",
              "      <th></th>\n",
              "      <th>Postal code</th>\n",
              "      <th>date</th>\n",
              "      <th>n_daily_data_points</th>\n",
              "      <th>dayOfWeek</th>\n",
              "      <th>day_type</th>\n",
              "      <th>BlueCars_taken_sum</th>\n",
              "      <th>BlueCars_returned_sum</th>\n",
              "      <th>Utilib_taken_sum</th>\n",
              "      <th>Utilib_returned_sum</th>\n",
              "      <th>Utilib_14_taken_sum</th>\n",
              "      <th>Utilib_14_returned_sum</th>\n",
              "      <th>Slots_freed_sum</th>\n",
              "      <th>Slots_taken_sum</th>\n",
              "    </tr>\n",
              "  </thead>\n",
              "  <tbody>\n",
              "    <tr>\n",
              "      <th>16075</th>\n",
              "      <td>95880</td>\n",
              "      <td>6/10/2018</td>\n",
              "      <td>1440</td>\n",
              "      <td>6</td>\n",
              "      <td>weekend</td>\n",
              "      <td>34</td>\n",
              "      <td>32</td>\n",
              "      <td>0</td>\n",
              "      <td>0</td>\n",
              "      <td>1</td>\n",
              "      <td>0</td>\n",
              "      <td>0</td>\n",
              "      <td>0</td>\n",
              "    </tr>\n",
              "    <tr>\n",
              "      <th>16076</th>\n",
              "      <td>95880</td>\n",
              "      <td>6/11/2018</td>\n",
              "      <td>1440</td>\n",
              "      <td>0</td>\n",
              "      <td>weekday</td>\n",
              "      <td>17</td>\n",
              "      <td>18</td>\n",
              "      <td>0</td>\n",
              "      <td>0</td>\n",
              "      <td>0</td>\n",
              "      <td>0</td>\n",
              "      <td>0</td>\n",
              "      <td>0</td>\n",
              "    </tr>\n",
              "    <tr>\n",
              "      <th>16077</th>\n",
              "      <td>95880</td>\n",
              "      <td>6/12/2018</td>\n",
              "      <td>1439</td>\n",
              "      <td>1</td>\n",
              "      <td>weekday</td>\n",
              "      <td>25</td>\n",
              "      <td>25</td>\n",
              "      <td>0</td>\n",
              "      <td>0</td>\n",
              "      <td>0</td>\n",
              "      <td>0</td>\n",
              "      <td>0</td>\n",
              "      <td>0</td>\n",
              "    </tr>\n",
              "    <tr>\n",
              "      <th>16078</th>\n",
              "      <td>95880</td>\n",
              "      <td>6/13/2018</td>\n",
              "      <td>1440</td>\n",
              "      <td>2</td>\n",
              "      <td>weekday</td>\n",
              "      <td>12</td>\n",
              "      <td>13</td>\n",
              "      <td>0</td>\n",
              "      <td>0</td>\n",
              "      <td>1</td>\n",
              "      <td>1</td>\n",
              "      <td>0</td>\n",
              "      <td>0</td>\n",
              "    </tr>\n",
              "    <tr>\n",
              "      <th>16079</th>\n",
              "      <td>95880</td>\n",
              "      <td>6/14/2018</td>\n",
              "      <td>1439</td>\n",
              "      <td>3</td>\n",
              "      <td>weekday</td>\n",
              "      <td>15</td>\n",
              "      <td>13</td>\n",
              "      <td>0</td>\n",
              "      <td>0</td>\n",
              "      <td>0</td>\n",
              "      <td>0</td>\n",
              "      <td>0</td>\n",
              "      <td>0</td>\n",
              "    </tr>\n",
              "    <tr>\n",
              "      <th>16080</th>\n",
              "      <td>95880</td>\n",
              "      <td>6/15/2018</td>\n",
              "      <td>1440</td>\n",
              "      <td>4</td>\n",
              "      <td>weekday</td>\n",
              "      <td>15</td>\n",
              "      <td>10</td>\n",
              "      <td>0</td>\n",
              "      <td>0</td>\n",
              "      <td>2</td>\n",
              "      <td>3</td>\n",
              "      <td>0</td>\n",
              "      <td>0</td>\n",
              "    </tr>\n",
              "    <tr>\n",
              "      <th>16081</th>\n",
              "      <td>95880</td>\n",
              "      <td>6/16/2018</td>\n",
              "      <td>1440</td>\n",
              "      <td>5</td>\n",
              "      <td>weekend</td>\n",
              "      <td>19</td>\n",
              "      <td>19</td>\n",
              "      <td>0</td>\n",
              "      <td>0</td>\n",
              "      <td>2</td>\n",
              "      <td>1</td>\n",
              "      <td>0</td>\n",
              "      <td>0</td>\n",
              "    </tr>\n",
              "    <tr>\n",
              "      <th>16082</th>\n",
              "      <td>95880</td>\n",
              "      <td>6/17/2018</td>\n",
              "      <td>1440</td>\n",
              "      <td>6</td>\n",
              "      <td>weekend</td>\n",
              "      <td>33</td>\n",
              "      <td>35</td>\n",
              "      <td>1</td>\n",
              "      <td>1</td>\n",
              "      <td>0</td>\n",
              "      <td>0</td>\n",
              "      <td>0</td>\n",
              "      <td>0</td>\n",
              "    </tr>\n",
              "    <tr>\n",
              "      <th>16083</th>\n",
              "      <td>95880</td>\n",
              "      <td>6/18/2018</td>\n",
              "      <td>1440</td>\n",
              "      <td>0</td>\n",
              "      <td>weekday</td>\n",
              "      <td>11</td>\n",
              "      <td>14</td>\n",
              "      <td>3</td>\n",
              "      <td>5</td>\n",
              "      <td>2</td>\n",
              "      <td>2</td>\n",
              "      <td>0</td>\n",
              "      <td>0</td>\n",
              "    </tr>\n",
              "    <tr>\n",
              "      <th>16084</th>\n",
              "      <td>95880</td>\n",
              "      <td>6/19/2018</td>\n",
              "      <td>1370</td>\n",
              "      <td>1</td>\n",
              "      <td>weekday</td>\n",
              "      <td>2</td>\n",
              "      <td>2</td>\n",
              "      <td>2</td>\n",
              "      <td>1</td>\n",
              "      <td>0</td>\n",
              "      <td>0</td>\n",
              "      <td>0</td>\n",
              "      <td>0</td>\n",
              "    </tr>\n",
              "  </tbody>\n",
              "</table>\n",
              "</div>"
            ],
            "text/plain": [
              "       Postal code       date  ...  Slots_freed_sum  Slots_taken_sum\n",
              "16075        95880  6/10/2018  ...                0                0\n",
              "16076        95880  6/11/2018  ...                0                0\n",
              "16077        95880  6/12/2018  ...                0                0\n",
              "16078        95880  6/13/2018  ...                0                0\n",
              "16079        95880  6/14/2018  ...                0                0\n",
              "16080        95880  6/15/2018  ...                0                0\n",
              "16081        95880  6/16/2018  ...                0                0\n",
              "16082        95880  6/17/2018  ...                0                0\n",
              "16083        95880  6/18/2018  ...                0                0\n",
              "16084        95880  6/19/2018  ...                0                0\n",
              "\n",
              "[10 rows x 13 columns]"
            ]
          },
          "metadata": {
            "tags": []
          },
          "execution_count": 107
        }
      ]
    },
    {
      "cell_type": "code",
      "metadata": {
        "id": "n8-dW4sQWzbc",
        "colab": {
          "base_uri": "https://localhost:8080/"
        },
        "outputId": "2c3a6957-aee3-4f02-dcad-a91ea534bede"
      },
      "source": [
        "# Checking whether each column has an appropriate datatype\n",
        "#\n",
        "df.dtypes"
      ],
      "execution_count": 108,
      "outputs": [
        {
          "output_type": "execute_result",
          "data": {
            "text/plain": [
              "Postal code                int64\n",
              "date                      object\n",
              "n_daily_data_points        int64\n",
              "dayOfWeek                  int64\n",
              "day_type                  object\n",
              "BlueCars_taken_sum         int64\n",
              "BlueCars_returned_sum      int64\n",
              "Utilib_taken_sum           int64\n",
              "Utilib_returned_sum        int64\n",
              "Utilib_14_taken_sum        int64\n",
              "Utilib_14_returned_sum     int64\n",
              "Slots_freed_sum            int64\n",
              "Slots_taken_sum            int64\n",
              "dtype: object"
            ]
          },
          "metadata": {
            "tags": []
          },
          "execution_count": 108
        }
      ]
    },
    {
      "cell_type": "markdown",
      "metadata": {
        "id": "_EBw5kO-3yEz"
      },
      "source": [
        "> Our data types are all appropriate, except the 'date' column. We shall need convert it to datetime for ease of calculation"
      ]
    },
    {
      "cell_type": "code",
      "metadata": {
        "colab": {
          "base_uri": "https://localhost:8080/"
        },
        "id": "vlsBBPfFJCAp",
        "outputId": "6d5b8d3b-9aba-4c7b-f067-fd3fe34b431f"
      },
      "source": [
        "# Convert the date to datetime data type, then check the datatypes again\n",
        "#\n",
        "df['date'] =  pd.to_datetime(df['date'])\n",
        "df.dtypes"
      ],
      "execution_count": 109,
      "outputs": [
        {
          "output_type": "execute_result",
          "data": {
            "text/plain": [
              "Postal code                        int64\n",
              "date                      datetime64[ns]\n",
              "n_daily_data_points                int64\n",
              "dayOfWeek                          int64\n",
              "day_type                          object\n",
              "BlueCars_taken_sum                 int64\n",
              "BlueCars_returned_sum              int64\n",
              "Utilib_taken_sum                   int64\n",
              "Utilib_returned_sum                int64\n",
              "Utilib_14_taken_sum                int64\n",
              "Utilib_14_returned_sum             int64\n",
              "Slots_freed_sum                    int64\n",
              "Slots_taken_sum                    int64\n",
              "dtype: object"
            ]
          },
          "metadata": {
            "tags": []
          },
          "execution_count": 109
        }
      ]
    },
    {
      "cell_type": "code",
      "metadata": {
        "colab": {
          "base_uri": "https://localhost:8080/"
        },
        "id": "yzEU3hyVorkC",
        "outputId": "fb3a8d08-925a-4dfb-b703-de6140158644"
      },
      "source": [
        "# Check the number of unique variables in each column\n",
        "#\n",
        "\n",
        "df.nunique()"
      ],
      "execution_count": 110,
      "outputs": [
        {
          "output_type": "execute_result",
          "data": {
            "text/plain": [
              "Postal code               104\n",
              "date                      156\n",
              "n_daily_data_points        23\n",
              "dayOfWeek                   7\n",
              "day_type                    2\n",
              "BlueCars_taken_sum        932\n",
              "BlueCars_returned_sum     929\n",
              "Utilib_taken_sum           48\n",
              "Utilib_returned_sum        49\n",
              "Utilib_14_taken_sum        92\n",
              "Utilib_14_returned_sum     94\n",
              "Slots_freed_sum           297\n",
              "Slots_taken_sum           301\n",
              "dtype: int64"
            ]
          },
          "metadata": {
            "tags": []
          },
          "execution_count": 110
        }
      ]
    },
    {
      "cell_type": "markdown",
      "metadata": {
        "id": "FlBMxEDBUc9B"
      },
      "source": [
        "## 5. Tidying the Dataset"
      ]
    },
    {
      "cell_type": "markdown",
      "metadata": {
        "id": "Wxo9E65to_Ob"
      },
      "source": [
        "We will clean our data set using the integrity rules i.e Accuracy, Completeness, Consistency, Uniformity & Validity. But first, we'll filter out the colums we do not need for our tests, for efficiency during cleaning.\n",
        "\n"
      ]
    },
    {
      "cell_type": "code",
      "metadata": {
        "colab": {
          "base_uri": "https://localhost:8080/",
          "height": 627
        },
        "id": "QsTQxCaspIJ7",
        "outputId": "9d020176-865d-46af-ddfe-d3e6c547be2c"
      },
      "source": [
        "# Since we are interested in blue cars over the weekend, we'll drop the rest of the columns\n",
        "#\n",
        "df.drop([ 'n_daily_data_points', 'Utilib_taken_sum', 'Utilib_returned_sum', 'Utilib_14_taken_sum', 'Utilib_14_returned_sum', 'Slots_freed_sum', 'Slots_taken_sum'], axis = 1, inplace = True)\n",
        "df"
      ],
      "execution_count": 111,
      "outputs": [
        {
          "output_type": "execute_result",
          "data": {
            "text/html": [
              "<div>\n",
              "<style scoped>\n",
              "    .dataframe tbody tr th:only-of-type {\n",
              "        vertical-align: middle;\n",
              "    }\n",
              "\n",
              "    .dataframe tbody tr th {\n",
              "        vertical-align: top;\n",
              "    }\n",
              "\n",
              "    .dataframe thead th {\n",
              "        text-align: right;\n",
              "    }\n",
              "</style>\n",
              "<table border=\"1\" class=\"dataframe\">\n",
              "  <thead>\n",
              "    <tr style=\"text-align: right;\">\n",
              "      <th></th>\n",
              "      <th>Postal code</th>\n",
              "      <th>date</th>\n",
              "      <th>dayOfWeek</th>\n",
              "      <th>day_type</th>\n",
              "      <th>BlueCars_taken_sum</th>\n",
              "      <th>BlueCars_returned_sum</th>\n",
              "    </tr>\n",
              "  </thead>\n",
              "  <tbody>\n",
              "    <tr>\n",
              "      <th>0</th>\n",
              "      <td>75001</td>\n",
              "      <td>2018-01-01</td>\n",
              "      <td>0</td>\n",
              "      <td>weekday</td>\n",
              "      <td>110</td>\n",
              "      <td>103</td>\n",
              "    </tr>\n",
              "    <tr>\n",
              "      <th>1</th>\n",
              "      <td>75001</td>\n",
              "      <td>2018-01-02</td>\n",
              "      <td>1</td>\n",
              "      <td>weekday</td>\n",
              "      <td>98</td>\n",
              "      <td>94</td>\n",
              "    </tr>\n",
              "    <tr>\n",
              "      <th>2</th>\n",
              "      <td>75001</td>\n",
              "      <td>2018-01-03</td>\n",
              "      <td>2</td>\n",
              "      <td>weekday</td>\n",
              "      <td>138</td>\n",
              "      <td>139</td>\n",
              "    </tr>\n",
              "    <tr>\n",
              "      <th>3</th>\n",
              "      <td>75001</td>\n",
              "      <td>2018-01-04</td>\n",
              "      <td>3</td>\n",
              "      <td>weekday</td>\n",
              "      <td>104</td>\n",
              "      <td>104</td>\n",
              "    </tr>\n",
              "    <tr>\n",
              "      <th>4</th>\n",
              "      <td>75001</td>\n",
              "      <td>2018-01-05</td>\n",
              "      <td>4</td>\n",
              "      <td>weekday</td>\n",
              "      <td>114</td>\n",
              "      <td>117</td>\n",
              "    </tr>\n",
              "    <tr>\n",
              "      <th>...</th>\n",
              "      <td>...</td>\n",
              "      <td>...</td>\n",
              "      <td>...</td>\n",
              "      <td>...</td>\n",
              "      <td>...</td>\n",
              "      <td>...</td>\n",
              "    </tr>\n",
              "    <tr>\n",
              "      <th>16080</th>\n",
              "      <td>95880</td>\n",
              "      <td>2018-06-15</td>\n",
              "      <td>4</td>\n",
              "      <td>weekday</td>\n",
              "      <td>15</td>\n",
              "      <td>10</td>\n",
              "    </tr>\n",
              "    <tr>\n",
              "      <th>16081</th>\n",
              "      <td>95880</td>\n",
              "      <td>2018-06-16</td>\n",
              "      <td>5</td>\n",
              "      <td>weekend</td>\n",
              "      <td>19</td>\n",
              "      <td>19</td>\n",
              "    </tr>\n",
              "    <tr>\n",
              "      <th>16082</th>\n",
              "      <td>95880</td>\n",
              "      <td>2018-06-17</td>\n",
              "      <td>6</td>\n",
              "      <td>weekend</td>\n",
              "      <td>33</td>\n",
              "      <td>35</td>\n",
              "    </tr>\n",
              "    <tr>\n",
              "      <th>16083</th>\n",
              "      <td>95880</td>\n",
              "      <td>2018-06-18</td>\n",
              "      <td>0</td>\n",
              "      <td>weekday</td>\n",
              "      <td>11</td>\n",
              "      <td>14</td>\n",
              "    </tr>\n",
              "    <tr>\n",
              "      <th>16084</th>\n",
              "      <td>95880</td>\n",
              "      <td>2018-06-19</td>\n",
              "      <td>1</td>\n",
              "      <td>weekday</td>\n",
              "      <td>2</td>\n",
              "      <td>2</td>\n",
              "    </tr>\n",
              "  </tbody>\n",
              "</table>\n",
              "<p>16085 rows × 6 columns</p>\n",
              "</div>"
            ],
            "text/plain": [
              "       Postal code       date  ...  BlueCars_taken_sum BlueCars_returned_sum\n",
              "0            75001 2018-01-01  ...                 110                   103\n",
              "1            75001 2018-01-02  ...                  98                    94\n",
              "2            75001 2018-01-03  ...                 138                   139\n",
              "3            75001 2018-01-04  ...                 104                   104\n",
              "4            75001 2018-01-05  ...                 114                   117\n",
              "...            ...        ...  ...                 ...                   ...\n",
              "16080        95880 2018-06-15  ...                  15                    10\n",
              "16081        95880 2018-06-16  ...                  19                    19\n",
              "16082        95880 2018-06-17  ...                  33                    35\n",
              "16083        95880 2018-06-18  ...                  11                    14\n",
              "16084        95880 2018-06-19  ...                   2                     2\n",
              "\n",
              "[16085 rows x 6 columns]"
            ]
          },
          "metadata": {
            "tags": []
          },
          "execution_count": 111
        }
      ]
    },
    {
      "cell_type": "code",
      "metadata": {
        "id": "5o_bQcT5W3Wz",
        "colab": {
          "base_uri": "https://localhost:8080/",
          "height": 1000
        },
        "outputId": "69c5b57a-bd69-4c25-9938-ddaf57dd7be8"
      },
      "source": [
        "# Checking for Outliers & Anomalies\n",
        "\n",
        "#\n",
        "col_names = ['Postal code',  'dayOfWeek', 'BlueCars_taken_sum', 'BlueCars_returned_sum']\n",
        "fig, ax = plt.subplots(len(col_names), figsize = (16,70))\n",
        "for i, col_val in enumerate(col_names):\n",
        "\n",
        "    sns.boxplot(x = df[col_val], ax=ax[i])\n",
        "    ax[i].set_title('A boxplot on the {} column'.format(col_val), fontsize=14)\n",
        "    ax[i].set_xlabel(col_val, fontsize=8)\n",
        "plt.show()"
      ],
      "execution_count": 112,
      "outputs": [
        {
          "output_type": "display_data",
          "data": {
            "image/png": "[encoded data removed]",
            "text/plain": [
              "<Figure size 1152x5040 with 4 Axes>"
            ]
          },
          "metadata": {
            "tags": [],
            "needs_background": "light"
          }
        }
      ]
    },
    {
      "cell_type": "code",
      "metadata": {
        "colab": {
          "base_uri": "https://localhost:8080/"
        },
        "id": "O-Xny5X6qLce",
        "outputId": "b528049e-0742-45f9-ec7e-1053554f7321"
      },
      "source": [
        "# Checking the number of outliers using IQR, for our numerical columns\n",
        "#\n",
        "df1 = df[[ 'BlueCars_taken_sum', 'BlueCars_returned_sum']]\n",
        "Q1 = df1.quantile(0.25)\n",
        "Q3 = df1.quantile(0.75)\n",
        "IQR = Q3 - Q1\n",
        "((df1 < (Q1 - 1.5 * IQR)) | (df1 > (Q3 + 1.5 * IQR))).sum()\n"
      ],
      "execution_count": 113,
      "outputs": [
        {
          "output_type": "execute_result",
          "data": {
            "text/plain": [
              "BlueCars_taken_sum       2215\n",
              "BlueCars_returned_sum    2213\n",
              "dtype: int64"
            ]
          },
          "metadata": {
            "tags": []
          },
          "execution_count": 113
        }
      ]
    },
    {
      "cell_type": "markdown",
      "metadata": {
        "id": "tzSmgTpq8bS8"
      },
      "source": [
        "> We have quite a large number of outliers in the BlueCars_returned_sum & the BlueCars_taken_sum columns. The 'dayOfWeek'column has no outliers, & 'Postal code' has few outliers.\n",
        "The outliers on the 'Postal code' are entries from 4 different postal codes. We shall not remove them as during sampling we shall select the specific postal code we want. As for the Blue cars returned and taken sums columns, we shall not proceed to remove our outliers since they are a very significant number and removing them may heavily skew our data and provide wrong insights."
      ]
    },
    {
      "cell_type": "code",
      "metadata": {
        "colab": {
          "base_uri": "https://localhost:8080/"
        },
        "id": "VysbFPLNsxu_",
        "outputId": "f8cd9dc6-e288-4dab-9c20-b71eac9e18ec"
      },
      "source": [
        "# Check the shape of the new dataset\n",
        "#\n",
        "df.shape"
      ],
      "execution_count": 114,
      "outputs": [
        {
          "output_type": "execute_result",
          "data": {
            "text/plain": [
              "(16085, 6)"
            ]
          },
          "metadata": {
            "tags": []
          },
          "execution_count": 114
        }
      ]
    },
    {
      "cell_type": "markdown",
      "metadata": {
        "id": "ELMUNDbBJTO4"
      },
      "source": [
        "> Our new dataset contains 16085 rows and 6 columns."
      ]
    },
    {
      "cell_type": "code",
      "metadata": {
        "id": "PvCYb6dgW4yh",
        "colab": {
          "base_uri": "https://localhost:8080/"
        },
        "outputId": "5a2c2ff4-8d71-4d2f-c4ea-7e468165ee8d"
      },
      "source": [
        "# Checking for Missing Data\n",
        "\n",
        "df.isnull().sum()"
      ],
      "execution_count": 115,
      "outputs": [
        {
          "output_type": "execute_result",
          "data": {
            "text/plain": [
              "Postal code              0\n",
              "date                     0\n",
              "dayOfWeek                0\n",
              "day_type                 0\n",
              "BlueCars_taken_sum       0\n",
              "BlueCars_returned_sum    0\n",
              "dtype: int64"
            ]
          },
          "metadata": {
            "tags": []
          },
          "execution_count": 115
        }
      ]
    },
    {
      "cell_type": "markdown",
      "metadata": {
        "id": "lMdq3r3ztKwI"
      },
      "source": [
        "> Our data has no missing values"
      ]
    },
    {
      "cell_type": "code",
      "metadata": {
        "id": "MpsDGKZHsf_W",
        "colab": {
          "base_uri": "https://localhost:8080/"
        },
        "outputId": "9e4e9ef5-0ba6-4848-ca7a-a5007f8bfaf3"
      },
      "source": [
        "# Check for duplicates\n",
        "#\n",
        "df.duplicated().sum()"
      ],
      "execution_count": 116,
      "outputs": [
        {
          "output_type": "execute_result",
          "data": {
            "text/plain": [
              "0"
            ]
          },
          "metadata": {
            "tags": []
          },
          "execution_count": 116
        }
      ]
    },
    {
      "cell_type": "markdown",
      "metadata": {
        "id": "l5HhzxJvtj1P"
      },
      "source": [
        "> Our data also has no duplicates"
      ]
    },
    {
      "cell_type": "code",
      "metadata": {
        "colab": {
          "base_uri": "https://localhost:8080/"
        },
        "id": "lqb5a62At6Zt",
        "outputId": "d870dcb2-c92f-4658-df6f-e48c6f785f8e"
      },
      "source": [
        "# Checking final information of our dataset\n",
        "#\n",
        "df.info()"
      ],
      "execution_count": 117,
      "outputs": [
        {
          "output_type": "stream",
          "text": [
            "<class 'pandas.core.frame.DataFrame'>\n",
            "RangeIndex: 16085 entries, 0 to 16084\n",
            "Data columns (total 6 columns):\n",
            " #   Column                 Non-Null Count  Dtype         \n",
            "---  ------                 --------------  -----         \n",
            " 0   Postal code            16085 non-null  int64         \n",
            " 1   date                   16085 non-null  datetime64[ns]\n",
            " 2   dayOfWeek              16085 non-null  int64         \n",
            " 3   day_type               16085 non-null  object        \n",
            " 4   BlueCars_taken_sum     16085 non-null  int64         \n",
            " 5   BlueCars_returned_sum  16085 non-null  int64         \n",
            "dtypes: datetime64[ns](1), int64(4), object(1)\n",
            "memory usage: 754.1+ KB\n"
          ],
          "name": "stdout"
        }
      ]
    },
    {
      "cell_type": "markdown",
      "metadata": {
        "id": "Cn8od4FSPIuG"
      },
      "source": [
        "## 6. Sampling"
      ]
    },
    {
      "cell_type": "markdown",
      "metadata": {
        "id": "9hbLsHEbPM_w"
      },
      "source": [
        "We shall use cluster sampling for our data for ease of processing and due to time constraints. We shall make an assumption that the sample will be a representative of the general population and that our sample has the same statistical distribution as the population. We shall create clusters by postal code. Each postal code has approximately 156 entries, thus we can use random sampling to select our cluster from the list.\n",
        "We will filter our data frame to only contain data for the weekend values as our hypothesis covers only weekend data."
      ]
    },
    {
      "cell_type": "code",
      "metadata": {
        "colab": {
          "base_uri": "https://localhost:8080/",
          "height": 627
        },
        "id": "UYg0mS-6S_N1",
        "outputId": "e1018a90-7553-4a98-adfb-334045b4d407"
      },
      "source": [
        "# First filter dataframe and select only weekend values as our hypothesis does not require weekday values\n",
        "#\n",
        "df_sample = df.loc[df['day_type'] == 'weekend']\n",
        "df_sample"
      ],
      "execution_count": 118,
      "outputs": [
        {
          "output_type": "execute_result",
          "data": {
            "text/html": [
              "<div>\n",
              "<style scoped>\n",
              "    .dataframe tbody tr th:only-of-type {\n",
              "        vertical-align: middle;\n",
              "    }\n",
              "\n",
              "    .dataframe tbody tr th {\n",
              "        vertical-align: top;\n",
              "    }\n",
              "\n",
              "    .dataframe thead th {\n",
              "        text-align: right;\n",
              "    }\n",
              "</style>\n",
              "<table border=\"1\" class=\"dataframe\">\n",
              "  <thead>\n",
              "    <tr style=\"text-align: right;\">\n",
              "      <th></th>\n",
              "      <th>Postal code</th>\n",
              "      <th>date</th>\n",
              "      <th>dayOfWeek</th>\n",
              "      <th>day_type</th>\n",
              "      <th>BlueCars_taken_sum</th>\n",
              "      <th>BlueCars_returned_sum</th>\n",
              "    </tr>\n",
              "  </thead>\n",
              "  <tbody>\n",
              "    <tr>\n",
              "      <th>5</th>\n",
              "      <td>75001</td>\n",
              "      <td>2018-01-06</td>\n",
              "      <td>5</td>\n",
              "      <td>weekend</td>\n",
              "      <td>187</td>\n",
              "      <td>185</td>\n",
              "    </tr>\n",
              "    <tr>\n",
              "      <th>6</th>\n",
              "      <td>75001</td>\n",
              "      <td>2018-01-07</td>\n",
              "      <td>6</td>\n",
              "      <td>weekend</td>\n",
              "      <td>180</td>\n",
              "      <td>180</td>\n",
              "    </tr>\n",
              "    <tr>\n",
              "      <th>12</th>\n",
              "      <td>75001</td>\n",
              "      <td>2018-01-13</td>\n",
              "      <td>5</td>\n",
              "      <td>weekend</td>\n",
              "      <td>224</td>\n",
              "      <td>223</td>\n",
              "    </tr>\n",
              "    <tr>\n",
              "      <th>13</th>\n",
              "      <td>75001</td>\n",
              "      <td>2018-01-14</td>\n",
              "      <td>6</td>\n",
              "      <td>weekend</td>\n",
              "      <td>193</td>\n",
              "      <td>193</td>\n",
              "    </tr>\n",
              "    <tr>\n",
              "      <th>19</th>\n",
              "      <td>75001</td>\n",
              "      <td>2018-01-20</td>\n",
              "      <td>5</td>\n",
              "      <td>weekend</td>\n",
              "      <td>217</td>\n",
              "      <td>217</td>\n",
              "    </tr>\n",
              "    <tr>\n",
              "      <th>...</th>\n",
              "      <td>...</td>\n",
              "      <td>...</td>\n",
              "      <td>...</td>\n",
              "      <td>...</td>\n",
              "      <td>...</td>\n",
              "      <td>...</td>\n",
              "    </tr>\n",
              "    <tr>\n",
              "      <th>16068</th>\n",
              "      <td>95880</td>\n",
              "      <td>2018-06-03</td>\n",
              "      <td>6</td>\n",
              "      <td>weekend</td>\n",
              "      <td>36</td>\n",
              "      <td>33</td>\n",
              "    </tr>\n",
              "    <tr>\n",
              "      <th>16074</th>\n",
              "      <td>95880</td>\n",
              "      <td>2018-06-09</td>\n",
              "      <td>5</td>\n",
              "      <td>weekend</td>\n",
              "      <td>15</td>\n",
              "      <td>15</td>\n",
              "    </tr>\n",
              "    <tr>\n",
              "      <th>16075</th>\n",
              "      <td>95880</td>\n",
              "      <td>2018-06-10</td>\n",
              "      <td>6</td>\n",
              "      <td>weekend</td>\n",
              "      <td>34</td>\n",
              "      <td>32</td>\n",
              "    </tr>\n",
              "    <tr>\n",
              "      <th>16081</th>\n",
              "      <td>95880</td>\n",
              "      <td>2018-06-16</td>\n",
              "      <td>5</td>\n",
              "      <td>weekend</td>\n",
              "      <td>19</td>\n",
              "      <td>19</td>\n",
              "    </tr>\n",
              "    <tr>\n",
              "      <th>16082</th>\n",
              "      <td>95880</td>\n",
              "      <td>2018-06-17</td>\n",
              "      <td>6</td>\n",
              "      <td>weekend</td>\n",
              "      <td>33</td>\n",
              "      <td>35</td>\n",
              "    </tr>\n",
              "  </tbody>\n",
              "</table>\n",
              "<p>4541 rows × 6 columns</p>\n",
              "</div>"
            ],
            "text/plain": [
              "       Postal code       date  ...  BlueCars_taken_sum BlueCars_returned_sum\n",
              "5            75001 2018-01-06  ...                 187                   185\n",
              "6            75001 2018-01-07  ...                 180                   180\n",
              "12           75001 2018-01-13  ...                 224                   223\n",
              "13           75001 2018-01-14  ...                 193                   193\n",
              "19           75001 2018-01-20  ...                 217                   217\n",
              "...            ...        ...  ...                 ...                   ...\n",
              "16068        95880 2018-06-03  ...                  36                    33\n",
              "16074        95880 2018-06-09  ...                  15                    15\n",
              "16075        95880 2018-06-10  ...                  34                    32\n",
              "16081        95880 2018-06-16  ...                  19                    19\n",
              "16082        95880 2018-06-17  ...                  33                    35\n",
              "\n",
              "[4541 rows x 6 columns]"
            ]
          },
          "metadata": {
            "tags": []
          },
          "execution_count": 118
        }
      ]
    },
    {
      "cell_type": "code",
      "metadata": {
        "colab": {
          "base_uri": "https://localhost:8080/"
        },
        "id": "FjY-QtzVQP0d",
        "outputId": "fbf4b0eb-51b0-49f6-b215-b1b304077b1d"
      },
      "source": [
        "# We will then pick a random cluster using the code below\n",
        "#\n",
        "df_sample['Postal code'].sample()\n"
      ],
      "execution_count": 119,
      "outputs": [
        {
          "output_type": "execute_result",
          "data": {
            "text/plain": [
              "15271    94500\n",
              "Name: Postal code, dtype: int64"
            ]
          },
          "metadata": {
            "tags": []
          },
          "execution_count": 119
        }
      ]
    },
    {
      "cell_type": "markdown",
      "metadata": {
        "id": "2ymAQopdVhpa"
      },
      "source": [
        "> We shall use the postal code 75015 as that was the value provided.\n",
        "> Since the code picks random values, it may pick different values when re-run. Thus we will disregard them"
      ]
    },
    {
      "cell_type": "code",
      "metadata": {
        "colab": {
          "base_uri": "https://localhost:8080/",
          "height": 1000
        },
        "id": "E5vgyfPUV7RA",
        "outputId": "f35ae9f3-0427-46c4-cc11-c838861cd12a"
      },
      "source": [
        "# Filter sample to contain the cluster selected above\n",
        "df_sample = df_sample.loc[df_sample['Postal code'] == 75015]\n",
        "df_sample"
      ],
      "execution_count": 120,
      "outputs": [
        {
          "output_type": "execute_result",
          "data": {
            "text/html": [
              "<div>\n",
              "<style scoped>\n",
              "    .dataframe tbody tr th:only-of-type {\n",
              "        vertical-align: middle;\n",
              "    }\n",
              "\n",
              "    .dataframe tbody tr th {\n",
              "        vertical-align: top;\n",
              "    }\n",
              "\n",
              "    .dataframe thead th {\n",
              "        text-align: right;\n",
              "    }\n",
              "</style>\n",
              "<table border=\"1\" class=\"dataframe\">\n",
              "  <thead>\n",
              "    <tr style=\"text-align: right;\">\n",
              "      <th></th>\n",
              "      <th>Postal code</th>\n",
              "      <th>date</th>\n",
              "      <th>dayOfWeek</th>\n",
              "      <th>day_type</th>\n",
              "      <th>BlueCars_taken_sum</th>\n",
              "      <th>BlueCars_returned_sum</th>\n",
              "    </tr>\n",
              "  </thead>\n",
              "  <tbody>\n",
              "    <tr>\n",
              "      <th>2189</th>\n",
              "      <td>75015</td>\n",
              "      <td>2018-01-06</td>\n",
              "      <td>5</td>\n",
              "      <td>weekend</td>\n",
              "      <td>1061</td>\n",
              "      <td>1015</td>\n",
              "    </tr>\n",
              "    <tr>\n",
              "      <th>2190</th>\n",
              "      <td>75015</td>\n",
              "      <td>2018-01-07</td>\n",
              "      <td>6</td>\n",
              "      <td>weekend</td>\n",
              "      <td>913</td>\n",
              "      <td>971</td>\n",
              "    </tr>\n",
              "    <tr>\n",
              "      <th>2196</th>\n",
              "      <td>75015</td>\n",
              "      <td>2018-01-13</td>\n",
              "      <td>5</td>\n",
              "      <td>weekend</td>\n",
              "      <td>1255</td>\n",
              "      <td>1211</td>\n",
              "    </tr>\n",
              "    <tr>\n",
              "      <th>2197</th>\n",
              "      <td>75015</td>\n",
              "      <td>2018-01-14</td>\n",
              "      <td>6</td>\n",
              "      <td>weekend</td>\n",
              "      <td>1097</td>\n",
              "      <td>1135</td>\n",
              "    </tr>\n",
              "    <tr>\n",
              "      <th>2203</th>\n",
              "      <td>75015</td>\n",
              "      <td>2018-01-20</td>\n",
              "      <td>5</td>\n",
              "      <td>weekend</td>\n",
              "      <td>1352</td>\n",
              "      <td>1300</td>\n",
              "    </tr>\n",
              "    <tr>\n",
              "      <th>2204</th>\n",
              "      <td>75015</td>\n",
              "      <td>2018-01-21</td>\n",
              "      <td>6</td>\n",
              "      <td>weekend</td>\n",
              "      <td>1132</td>\n",
              "      <td>1149</td>\n",
              "    </tr>\n",
              "    <tr>\n",
              "      <th>2210</th>\n",
              "      <td>75015</td>\n",
              "      <td>2018-01-27</td>\n",
              "      <td>5</td>\n",
              "      <td>weekend</td>\n",
              "      <td>1248</td>\n",
              "      <td>1214</td>\n",
              "    </tr>\n",
              "    <tr>\n",
              "      <th>2211</th>\n",
              "      <td>75015</td>\n",
              "      <td>2018-01-28</td>\n",
              "      <td>6</td>\n",
              "      <td>weekend</td>\n",
              "      <td>1014</td>\n",
              "      <td>1049</td>\n",
              "    </tr>\n",
              "    <tr>\n",
              "      <th>2217</th>\n",
              "      <td>75015</td>\n",
              "      <td>2018-02-03</td>\n",
              "      <td>5</td>\n",
              "      <td>weekend</td>\n",
              "      <td>1327</td>\n",
              "      <td>1287</td>\n",
              "    </tr>\n",
              "    <tr>\n",
              "      <th>2218</th>\n",
              "      <td>75015</td>\n",
              "      <td>2018-02-04</td>\n",
              "      <td>6</td>\n",
              "      <td>weekend</td>\n",
              "      <td>1043</td>\n",
              "      <td>1118</td>\n",
              "    </tr>\n",
              "    <tr>\n",
              "      <th>2224</th>\n",
              "      <td>75015</td>\n",
              "      <td>2018-02-10</td>\n",
              "      <td>5</td>\n",
              "      <td>weekend</td>\n",
              "      <td>1118</td>\n",
              "      <td>1136</td>\n",
              "    </tr>\n",
              "    <tr>\n",
              "      <th>2225</th>\n",
              "      <td>75015</td>\n",
              "      <td>2018-02-11</td>\n",
              "      <td>6</td>\n",
              "      <td>weekend</td>\n",
              "      <td>1036</td>\n",
              "      <td>1066</td>\n",
              "    </tr>\n",
              "    <tr>\n",
              "      <th>2231</th>\n",
              "      <td>75015</td>\n",
              "      <td>2018-02-17</td>\n",
              "      <td>5</td>\n",
              "      <td>weekend</td>\n",
              "      <td>1144</td>\n",
              "      <td>1117</td>\n",
              "    </tr>\n",
              "    <tr>\n",
              "      <th>2232</th>\n",
              "      <td>75015</td>\n",
              "      <td>2018-02-18</td>\n",
              "      <td>6</td>\n",
              "      <td>weekend</td>\n",
              "      <td>1037</td>\n",
              "      <td>1072</td>\n",
              "    </tr>\n",
              "    <tr>\n",
              "      <th>2238</th>\n",
              "      <td>75015</td>\n",
              "      <td>2018-02-24</td>\n",
              "      <td>5</td>\n",
              "      <td>weekend</td>\n",
              "      <td>58</td>\n",
              "      <td>93</td>\n",
              "    </tr>\n",
              "    <tr>\n",
              "      <th>2242</th>\n",
              "      <td>75015</td>\n",
              "      <td>2018-03-03</td>\n",
              "      <td>5</td>\n",
              "      <td>weekend</td>\n",
              "      <td>1136</td>\n",
              "      <td>1118</td>\n",
              "    </tr>\n",
              "    <tr>\n",
              "      <th>2243</th>\n",
              "      <td>75015</td>\n",
              "      <td>2018-03-04</td>\n",
              "      <td>6</td>\n",
              "      <td>weekend</td>\n",
              "      <td>999</td>\n",
              "      <td>1057</td>\n",
              "    </tr>\n",
              "    <tr>\n",
              "      <th>2249</th>\n",
              "      <td>75015</td>\n",
              "      <td>2018-03-10</td>\n",
              "      <td>5</td>\n",
              "      <td>weekend</td>\n",
              "      <td>1127</td>\n",
              "      <td>1111</td>\n",
              "    </tr>\n",
              "    <tr>\n",
              "      <th>2250</th>\n",
              "      <td>75015</td>\n",
              "      <td>2018-03-11</td>\n",
              "      <td>6</td>\n",
              "      <td>weekend</td>\n",
              "      <td>1038</td>\n",
              "      <td>1119</td>\n",
              "    </tr>\n",
              "    <tr>\n",
              "      <th>2256</th>\n",
              "      <td>75015</td>\n",
              "      <td>2018-03-17</td>\n",
              "      <td>5</td>\n",
              "      <td>weekend</td>\n",
              "      <td>1209</td>\n",
              "      <td>1210</td>\n",
              "    </tr>\n",
              "    <tr>\n",
              "      <th>2257</th>\n",
              "      <td>75015</td>\n",
              "      <td>2018-03-18</td>\n",
              "      <td>6</td>\n",
              "      <td>weekend</td>\n",
              "      <td>980</td>\n",
              "      <td>1046</td>\n",
              "    </tr>\n",
              "    <tr>\n",
              "      <th>2263</th>\n",
              "      <td>75015</td>\n",
              "      <td>2018-03-24</td>\n",
              "      <td>5</td>\n",
              "      <td>weekend</td>\n",
              "      <td>1186</td>\n",
              "      <td>1142</td>\n",
              "    </tr>\n",
              "    <tr>\n",
              "      <th>2264</th>\n",
              "      <td>75015</td>\n",
              "      <td>2018-03-25</td>\n",
              "      <td>6</td>\n",
              "      <td>weekend</td>\n",
              "      <td>981</td>\n",
              "      <td>1033</td>\n",
              "    </tr>\n",
              "    <tr>\n",
              "      <th>2270</th>\n",
              "      <td>75015</td>\n",
              "      <td>2018-03-31</td>\n",
              "      <td>5</td>\n",
              "      <td>weekend</td>\n",
              "      <td>1024</td>\n",
              "      <td>967</td>\n",
              "    </tr>\n",
              "    <tr>\n",
              "      <th>2271</th>\n",
              "      <td>75015</td>\n",
              "      <td>2018-04-01</td>\n",
              "      <td>6</td>\n",
              "      <td>weekend</td>\n",
              "      <td>939</td>\n",
              "      <td>979</td>\n",
              "    </tr>\n",
              "    <tr>\n",
              "      <th>2277</th>\n",
              "      <td>75015</td>\n",
              "      <td>2018-04-07</td>\n",
              "      <td>5</td>\n",
              "      <td>weekend</td>\n",
              "      <td>1277</td>\n",
              "      <td>1171</td>\n",
              "    </tr>\n",
              "    <tr>\n",
              "      <th>2278</th>\n",
              "      <td>75015</td>\n",
              "      <td>2018-04-08</td>\n",
              "      <td>6</td>\n",
              "      <td>weekend</td>\n",
              "      <td>1082</td>\n",
              "      <td>1189</td>\n",
              "    </tr>\n",
              "    <tr>\n",
              "      <th>2284</th>\n",
              "      <td>75015</td>\n",
              "      <td>2018-04-14</td>\n",
              "      <td>5</td>\n",
              "      <td>weekend</td>\n",
              "      <td>1144</td>\n",
              "      <td>1133</td>\n",
              "    </tr>\n",
              "    <tr>\n",
              "      <th>2285</th>\n",
              "      <td>75015</td>\n",
              "      <td>2018-04-15</td>\n",
              "      <td>6</td>\n",
              "      <td>weekend</td>\n",
              "      <td>1002</td>\n",
              "      <td>1051</td>\n",
              "    </tr>\n",
              "    <tr>\n",
              "      <th>2291</th>\n",
              "      <td>75015</td>\n",
              "      <td>2018-04-21</td>\n",
              "      <td>5</td>\n",
              "      <td>weekend</td>\n",
              "      <td>1023</td>\n",
              "      <td>1017</td>\n",
              "    </tr>\n",
              "    <tr>\n",
              "      <th>2292</th>\n",
              "      <td>75015</td>\n",
              "      <td>2018-04-22</td>\n",
              "      <td>6</td>\n",
              "      <td>weekend</td>\n",
              "      <td>925</td>\n",
              "      <td>979</td>\n",
              "    </tr>\n",
              "    <tr>\n",
              "      <th>2298</th>\n",
              "      <td>75015</td>\n",
              "      <td>2018-04-28</td>\n",
              "      <td>5</td>\n",
              "      <td>weekend</td>\n",
              "      <td>984</td>\n",
              "      <td>947</td>\n",
              "    </tr>\n",
              "    <tr>\n",
              "      <th>2299</th>\n",
              "      <td>75015</td>\n",
              "      <td>2018-04-29</td>\n",
              "      <td>6</td>\n",
              "      <td>weekend</td>\n",
              "      <td>899</td>\n",
              "      <td>910</td>\n",
              "    </tr>\n",
              "    <tr>\n",
              "      <th>2305</th>\n",
              "      <td>75015</td>\n",
              "      <td>2018-05-05</td>\n",
              "      <td>5</td>\n",
              "      <td>weekend</td>\n",
              "      <td>1155</td>\n",
              "      <td>1146</td>\n",
              "    </tr>\n",
              "    <tr>\n",
              "      <th>2306</th>\n",
              "      <td>75015</td>\n",
              "      <td>2018-05-06</td>\n",
              "      <td>6</td>\n",
              "      <td>weekend</td>\n",
              "      <td>1016</td>\n",
              "      <td>1045</td>\n",
              "    </tr>\n",
              "    <tr>\n",
              "      <th>2309</th>\n",
              "      <td>75015</td>\n",
              "      <td>2018-05-20</td>\n",
              "      <td>6</td>\n",
              "      <td>weekend</td>\n",
              "      <td>625</td>\n",
              "      <td>614</td>\n",
              "    </tr>\n",
              "    <tr>\n",
              "      <th>2315</th>\n",
              "      <td>75015</td>\n",
              "      <td>2018-05-26</td>\n",
              "      <td>5</td>\n",
              "      <td>weekend</td>\n",
              "      <td>1335</td>\n",
              "      <td>1276</td>\n",
              "    </tr>\n",
              "    <tr>\n",
              "      <th>2316</th>\n",
              "      <td>75015</td>\n",
              "      <td>2018-05-27</td>\n",
              "      <td>6</td>\n",
              "      <td>weekend</td>\n",
              "      <td>1152</td>\n",
              "      <td>1271</td>\n",
              "    </tr>\n",
              "    <tr>\n",
              "      <th>2322</th>\n",
              "      <td>75015</td>\n",
              "      <td>2018-06-02</td>\n",
              "      <td>5</td>\n",
              "      <td>weekend</td>\n",
              "      <td>1338</td>\n",
              "      <td>1294</td>\n",
              "    </tr>\n",
              "    <tr>\n",
              "      <th>2323</th>\n",
              "      <td>75015</td>\n",
              "      <td>2018-06-03</td>\n",
              "      <td>6</td>\n",
              "      <td>weekend</td>\n",
              "      <td>1164</td>\n",
              "      <td>1230</td>\n",
              "    </tr>\n",
              "    <tr>\n",
              "      <th>2329</th>\n",
              "      <td>75015</td>\n",
              "      <td>2018-06-09</td>\n",
              "      <td>5</td>\n",
              "      <td>weekend</td>\n",
              "      <td>1330</td>\n",
              "      <td>1332</td>\n",
              "    </tr>\n",
              "    <tr>\n",
              "      <th>2330</th>\n",
              "      <td>75015</td>\n",
              "      <td>2018-06-10</td>\n",
              "      <td>6</td>\n",
              "      <td>weekend</td>\n",
              "      <td>1087</td>\n",
              "      <td>1143</td>\n",
              "    </tr>\n",
              "    <tr>\n",
              "      <th>2336</th>\n",
              "      <td>75015</td>\n",
              "      <td>2018-06-16</td>\n",
              "      <td>5</td>\n",
              "      <td>weekend</td>\n",
              "      <td>1209</td>\n",
              "      <td>1154</td>\n",
              "    </tr>\n",
              "    <tr>\n",
              "      <th>2337</th>\n",
              "      <td>75015</td>\n",
              "      <td>2018-06-17</td>\n",
              "      <td>6</td>\n",
              "      <td>weekend</td>\n",
              "      <td>1001</td>\n",
              "      <td>1090</td>\n",
              "    </tr>\n",
              "  </tbody>\n",
              "</table>\n",
              "</div>"
            ],
            "text/plain": [
              "      Postal code       date  ...  BlueCars_taken_sum BlueCars_returned_sum\n",
              "2189        75015 2018-01-06  ...                1061                  1015\n",
              "2190        75015 2018-01-07  ...                 913                   971\n",
              "2196        75015 2018-01-13  ...                1255                  1211\n",
              "2197        75015 2018-01-14  ...                1097                  1135\n",
              "2203        75015 2018-01-20  ...                1352                  1300\n",
              "2204        75015 2018-01-21  ...                1132                  1149\n",
              "2210        75015 2018-01-27  ...                1248                  1214\n",
              "2211        75015 2018-01-28  ...                1014                  1049\n",
              "2217        75015 2018-02-03  ...                1327                  1287\n",
              "2218        75015 2018-02-04  ...                1043                  1118\n",
              "2224        75015 2018-02-10  ...                1118                  1136\n",
              "2225        75015 2018-02-11  ...                1036                  1066\n",
              "2231        75015 2018-02-17  ...                1144                  1117\n",
              "2232        75015 2018-02-18  ...                1037                  1072\n",
              "2238        75015 2018-02-24  ...                  58                    93\n",
              "2242        75015 2018-03-03  ...                1136                  1118\n",
              "2243        75015 2018-03-04  ...                 999                  1057\n",
              "2249        75015 2018-03-10  ...                1127                  1111\n",
              "2250        75015 2018-03-11  ...                1038                  1119\n",
              "2256        75015 2018-03-17  ...                1209                  1210\n",
              "2257        75015 2018-03-18  ...                 980                  1046\n",
              "2263        75015 2018-03-24  ...                1186                  1142\n",
              "2264        75015 2018-03-25  ...                 981                  1033\n",
              "2270        75015 2018-03-31  ...                1024                   967\n",
              "2271        75015 2018-04-01  ...                 939                   979\n",
              "2277        75015 2018-04-07  ...                1277                  1171\n",
              "2278        75015 2018-04-08  ...                1082                  1189\n",
              "2284        75015 2018-04-14  ...                1144                  1133\n",
              "2285        75015 2018-04-15  ...                1002                  1051\n",
              "2291        75015 2018-04-21  ...                1023                  1017\n",
              "2292        75015 2018-04-22  ...                 925                   979\n",
              "2298        75015 2018-04-28  ...                 984                   947\n",
              "2299        75015 2018-04-29  ...                 899                   910\n",
              "2305        75015 2018-05-05  ...                1155                  1146\n",
              "2306        75015 2018-05-06  ...                1016                  1045\n",
              "2309        75015 2018-05-20  ...                 625                   614\n",
              "2315        75015 2018-05-26  ...                1335                  1276\n",
              "2316        75015 2018-05-27  ...                1152                  1271\n",
              "2322        75015 2018-06-02  ...                1338                  1294\n",
              "2323        75015 2018-06-03  ...                1164                  1230\n",
              "2329        75015 2018-06-09  ...                1330                  1332\n",
              "2330        75015 2018-06-10  ...                1087                  1143\n",
              "2336        75015 2018-06-16  ...                1209                  1154\n",
              "2337        75015 2018-06-17  ...                1001                  1090\n",
              "\n",
              "[44 rows x 6 columns]"
            ]
          },
          "metadata": {
            "tags": []
          },
          "execution_count": 120
        }
      ]
    },
    {
      "cell_type": "code",
      "metadata": {
        "colab": {
          "base_uri": "https://localhost:8080/"
        },
        "id": "qw5ty90bW0IH",
        "outputId": "c0189a21-a87d-476a-a876-cdbe443a0cc5"
      },
      "source": [
        "# Check info on our sample\n",
        "df_sample.info()"
      ],
      "execution_count": 121,
      "outputs": [
        {
          "output_type": "stream",
          "text": [
            "<class 'pandas.core.frame.DataFrame'>\n",
            "Int64Index: 44 entries, 2189 to 2337\n",
            "Data columns (total 6 columns):\n",
            " #   Column                 Non-Null Count  Dtype         \n",
            "---  ------                 --------------  -----         \n",
            " 0   Postal code            44 non-null     int64         \n",
            " 1   date                   44 non-null     datetime64[ns]\n",
            " 2   dayOfWeek              44 non-null     int64         \n",
            " 3   day_type               44 non-null     object        \n",
            " 4   BlueCars_taken_sum     44 non-null     int64         \n",
            " 5   BlueCars_returned_sum  44 non-null     int64         \n",
            "dtypes: datetime64[ns](1), int64(4), object(1)\n",
            "memory usage: 2.4+ KB\n"
          ],
          "name": "stdout"
        }
      ]
    },
    {
      "cell_type": "markdown",
      "metadata": {
        "id": "PAX2ig6KV6Vd"
      },
      "source": [
        "> This is the ample we shall use as a representative of our general population. It has 44 rows and 6 columns. No null values, and no duplicates, as previously checked.\n"
      ]
    },
    {
      "cell_type": "markdown",
      "metadata": {
        "id": "rF2ABPsHUtbZ"
      },
      "source": [
        "## 7. Exploratory Analysis"
      ]
    },
    {
      "cell_type": "markdown",
      "metadata": {
        "id": "D8B80V2uISVI"
      },
      "source": [
        "### a) Univariate Analysis"
      ]
    },
    {
      "cell_type": "markdown",
      "metadata": {
        "id": "W5ujhTq5ZmUa"
      },
      "source": [
        "#### ***Measures of Central Tendency***"
      ]
    },
    {
      "cell_type": "code",
      "metadata": {
        "id": "5nnRToniXGDK",
        "colab": {
          "base_uri": "https://localhost:8080/",
          "height": 111
        },
        "outputId": "f1a431d9-becb-41b8-91c6-bce39f3109e9"
      },
      "source": [
        "# Mode\n",
        "# Calculating mode across different columns\n",
        "\n",
        "df_sample[['BlueCars_taken_sum' , 'BlueCars_returned_sum']].mode()"
      ],
      "execution_count": 122,
      "outputs": [
        {
          "output_type": "execute_result",
          "data": {
            "text/html": [
              "<div>\n",
              "<style scoped>\n",
              "    .dataframe tbody tr th:only-of-type {\n",
              "        vertical-align: middle;\n",
              "    }\n",
              "\n",
              "    .dataframe tbody tr th {\n",
              "        vertical-align: top;\n",
              "    }\n",
              "\n",
              "    .dataframe thead th {\n",
              "        text-align: right;\n",
              "    }\n",
              "</style>\n",
              "<table border=\"1\" class=\"dataframe\">\n",
              "  <thead>\n",
              "    <tr style=\"text-align: right;\">\n",
              "      <th></th>\n",
              "      <th>BlueCars_taken_sum</th>\n",
              "      <th>BlueCars_returned_sum</th>\n",
              "    </tr>\n",
              "  </thead>\n",
              "  <tbody>\n",
              "    <tr>\n",
              "      <th>0</th>\n",
              "      <td>1144</td>\n",
              "      <td>979</td>\n",
              "    </tr>\n",
              "    <tr>\n",
              "      <th>1</th>\n",
              "      <td>1209</td>\n",
              "      <td>1118</td>\n",
              "    </tr>\n",
              "  </tbody>\n",
              "</table>\n",
              "</div>"
            ],
            "text/plain": [
              "   BlueCars_taken_sum  BlueCars_returned_sum\n",
              "0                1144                    979\n",
              "1                1209                   1118"
            ]
          },
          "metadata": {
            "tags": []
          },
          "execution_count": 122
        }
      ]
    },
    {
      "cell_type": "markdown",
      "metadata": {
        "id": "P72BnETbuvcj"
      },
      "source": [
        "> From our analysis, we can see where most of our data lies for each of the columns, as indicated on the first row. \n",
        "> Most of our data was collcted on Friday, most common total number of blue cars taken is 1144\tand those returned is 979. We shall ignore the postal code and the day_type as they contain only one value."
      ]
    },
    {
      "cell_type": "code",
      "metadata": {
        "colab": {
          "base_uri": "https://localhost:8080/"
        },
        "id": "yVIQtLJmuhtV",
        "outputId": "444c7526-8e30-4199-89ff-6f53a05f0019"
      },
      "source": [
        "# Mean\n",
        "# Calculating the mean for our numerical columns\n",
        "df_sample[['BlueCars_taken_sum' , 'BlueCars_returned_sum']].mean(axis=0)"
      ],
      "execution_count": 123,
      "outputs": [
        {
          "output_type": "execute_result",
          "data": {
            "text/plain": [
              "BlueCars_taken_sum       1072.772727\n",
              "BlueCars_returned_sum    1084.250000\n",
              "dtype: float64"
            ]
          },
          "metadata": {
            "tags": []
          },
          "execution_count": 123
        }
      ]
    },
    {
      "cell_type": "markdown",
      "metadata": {
        "id": "vfxxOlpZvYiP"
      },
      "source": [
        "> The average number of blue cars taken is 1072 and those returned is 1084"
      ]
    },
    {
      "cell_type": "code",
      "metadata": {
        "colab": {
          "base_uri": "https://localhost:8080/"
        },
        "id": "hWZCYQsquovL",
        "outputId": "0dbd7198-0892-4e98-824e-e445d0ce8167"
      },
      "source": [
        "# Median\n",
        "# Calculating the median for our numerical columns\n",
        "\n",
        "df_sample[['BlueCars_taken_sum' , 'BlueCars_returned_sum']].median(axis=0)\n"
      ],
      "execution_count": 124,
      "outputs": [
        {
          "output_type": "execute_result",
          "data": {
            "text/plain": [
              "BlueCars_taken_sum       1084.5\n",
              "BlueCars_returned_sum    1118.0\n",
              "dtype: float64"
            ]
          },
          "metadata": {
            "tags": []
          },
          "execution_count": 124
        }
      ]
    },
    {
      "cell_type": "markdown",
      "metadata": {
        "id": "lm_KIYIKvxE7"
      },
      "source": [
        "> The median number of blue cars taken is 1084 and those returned is 1118\n"
      ]
    },
    {
      "cell_type": "markdown",
      "metadata": {
        "id": "9O-9MITedliL"
      },
      "source": [
        "#### ***Measures of Dispersion***"
      ]
    },
    {
      "cell_type": "code",
      "metadata": {
        "colab": {
          "base_uri": "https://localhost:8080/"
        },
        "id": "skPW_H46wS7c",
        "outputId": "91d34277-3a6b-44d9-cce2-e68285fe4efa"
      },
      "source": [
        "# Standard Deviation & Variance\n",
        "# We will now calculate the standard deviation and variance to check the spread of our data from the mean\n",
        "range1 = df['BlueCars_taken_sum'].max() - df['BlueCars_taken_sum'].min()\n",
        "range2 = df['BlueCars_returned_sum'].max() - df['BlueCars_returned_sum'].min()\n",
        "std = df_sample[['BlueCars_taken_sum' , 'BlueCars_returned_sum']].std()\n",
        "var = df_sample[['BlueCars_taken_sum' , 'BlueCars_returned_sum']].var()\n",
        "print('Range: \"BlueCars_taken_sum\" ', range1 ,'\"BlueCars_returned_sum\" ', range2) \n",
        "print('Std deviation:', std)\n",
        "print('Variance:', var)"
      ],
      "execution_count": 125,
      "outputs": [
        {
          "output_type": "stream",
          "text": [
            "Range: \"BlueCars_taken_sum\"  1352 \"BlueCars_returned_sum\"  1332\n",
            "Std deviation: BlueCars_taken_sum       211.909136\n",
            "BlueCars_returned_sum    199.177743\n",
            "dtype: float64\n",
            "Variance: BlueCars_taken_sum       44905.482030\n",
            "BlueCars_returned_sum    39671.773256\n",
            "dtype: float64\n"
          ],
          "name": "stdout"
        }
      ]
    },
    {
      "cell_type": "markdown",
      "metadata": {
        "id": "b1YSJtTvcQrr"
      },
      "source": [
        "> Both columns have a high standard deviation and variance, showing that they're both spread over a wide range as evidenced by the ranges"
      ]
    },
    {
      "cell_type": "code",
      "metadata": {
        "colab": {
          "base_uri": "https://localhost:8080/"
        },
        "id": "RAaNLhEDuseu",
        "outputId": "1cef9ef2-a516-4f90-c816-0303644ee045"
      },
      "source": [
        "# Skewness\n",
        "# We will now calculate the skewness to check the assymetry of the distribution\n",
        "\n",
        "df_sample[['BlueCars_taken_sum' , 'BlueCars_returned_sum']].skew()"
      ],
      "execution_count": 126,
      "outputs": [
        {
          "output_type": "execute_result",
          "data": {
            "text/plain": [
              "BlueCars_taken_sum      -2.642853\n",
              "BlueCars_returned_sum   -3.154048\n",
              "dtype: float64"
            ]
          },
          "metadata": {
            "tags": []
          },
          "execution_count": 126
        }
      ]
    },
    {
      "cell_type": "markdown",
      "metadata": {
        "id": "c5f3NMXawARn"
      },
      "source": [
        "> Our columns are both negatively skewed, indicating that the tail is bigger on the left side"
      ]
    },
    {
      "cell_type": "code",
      "metadata": {
        "colab": {
          "base_uri": "https://localhost:8080/"
        },
        "id": "hbJjD44PutyA",
        "outputId": "77ebaa4d-4659-4b38-b294-84956460bfdf"
      },
      "source": [
        "# Kurtosis\n",
        "# We will now calculate the kurtosis to check the tail of our distribution\n",
        "\n",
        "df_sample[['BlueCars_taken_sum' , 'BlueCars_returned_sum']].kurt()"
      ],
      "execution_count": 127,
      "outputs": [
        {
          "output_type": "execute_result",
          "data": {
            "text/plain": [
              "BlueCars_taken_sum       11.796421\n",
              "BlueCars_returned_sum    14.277760\n",
              "dtype: float64"
            ]
          },
          "metadata": {
            "tags": []
          },
          "execution_count": 127
        }
      ]
    },
    {
      "cell_type": "markdown",
      "metadata": {
        "id": "pCayQ0licDyW"
      },
      "source": [
        "> Our columns are both leptokurtic. This may be due to the fact that we didn't remove the outliers in our dataframe"
      ]
    },
    {
      "cell_type": "markdown",
      "metadata": {
        "id": "3AyCEG6cdwfi"
      },
      "source": [
        "#### ***Plots***"
      ]
    },
    {
      "cell_type": "code",
      "metadata": {
        "colab": {
          "base_uri": "https://localhost:8080/",
          "height": 293
        },
        "id": "dqS8A8ald3vd",
        "outputId": "b88ea926-8ae0-4bac-f79a-f953473d910c"
      },
      "source": [
        "# Graphical representation of Blue cars taken\n",
        "cars = df_sample['BlueCars_taken_sum']\n",
        "plt.hist(cars, bins=10, histtype='bar', rwidth=0.9, color = 'magenta')\n",
        "plt.xlabel('No of BlueCars taken', fontsize=10)\n",
        "plt.ylabel('Number of Cars', fontsize=14, labelpad=15)\n",
        "plt.title('Distribution of No of BlueCars taken', fontsize=10)\n",
        "\n",
        "plt.show()"
      ],
      "execution_count": 128,
      "outputs": [
        {
          "output_type": "display_data",
          "data": {
            "image/png": "[encoded data removed]",
            "text/plain": [
              "<Figure size 432x288 with 1 Axes>"
            ]
          },
          "metadata": {
            "tags": [],
            "needs_background": "light"
          }
        }
      ]
    },
    {
      "cell_type": "code",
      "metadata": {
        "colab": {
          "base_uri": "https://localhost:8080/",
          "height": 293
        },
        "id": "UFpmQeUne-um",
        "outputId": "6148f99b-29cc-4ab6-abc6-818ead3adb4d"
      },
      "source": [
        "# Graphical representation of Blue cars returned\n",
        "cars2 = df_sample['BlueCars_returned_sum']\n",
        "plt.hist(cars2, bins=10, histtype='bar', rwidth=0.9)\n",
        "plt.xlabel('No of BlueCars returned', fontsize=10)\n",
        "plt.ylabel('Number of Cars', fontsize=14, labelpad=15)\n",
        "plt.title('Distribution of No of BlueCars returned', fontsize=10)\n",
        "\n",
        "plt.show()"
      ],
      "execution_count": 129,
      "outputs": [
        {
          "output_type": "display_data",
          "data": {
            "image/png": "[encoded data removed]",
            "text/plain": [
              "<Figure size 432x288 with 1 Axes>"
            ]
          },
          "metadata": {
            "tags": [],
            "needs_background": "light"
          }
        }
      ]
    },
    {
      "cell_type": "markdown",
      "metadata": {
        "id": "-UNNyrJMESvL"
      },
      "source": [
        "##### Summary\n",
        "\n",
        "> From our univariate analysis, we can see the following:\n",
        ">\n",
        "> 1.   Most common total number of blue cars taken is 1144 and those returned is 979.\n",
        "> 2.   The average number of blue cars taken is 1072 and those returned is 1084\n",
        "> 3.   The median number of blue cars taken is 1084 and those returned is 1118\n",
        "> 4.   Both columns have a high standard deviation and variance, showing that they're both spread over a wide range as evidenced by the ranges\n",
        "> 5.  Our columns are both negatively skewed, indicating that the tail is bigger on the left side\n",
        "> 6.  Our columns are both leptokurtic. This may be due to the fact that we didn't remove the outliers in our dataframe "
      ]
    },
    {
      "cell_type": "markdown",
      "metadata": {
        "id": "tYm-D1DPIdSs"
      },
      "source": [
        "### b) Bivariate Analysis\n",
        "We shall carry out bivariate analysis to check the relationships and measure the strengths of these relationships between 2 variables"
      ]
    },
    {
      "cell_type": "code",
      "metadata": {
        "id": "w9jUGNsdIipf",
        "colab": {
          "base_uri": "https://localhost:8080/",
          "height": 111
        },
        "outputId": "1c273128-c678-4fc7-8031-aafd0210fadf"
      },
      "source": [
        "# Check for correlation in our numerical data\n",
        "#\n",
        "correlation = df_sample[['BlueCars_taken_sum' , 'BlueCars_returned_sum']].corr()\n",
        "correlation"
      ],
      "execution_count": 130,
      "outputs": [
        {
          "output_type": "execute_result",
          "data": {
            "text/html": [
              "<div>\n",
              "<style scoped>\n",
              "    .dataframe tbody tr th:only-of-type {\n",
              "        vertical-align: middle;\n",
              "    }\n",
              "\n",
              "    .dataframe tbody tr th {\n",
              "        vertical-align: top;\n",
              "    }\n",
              "\n",
              "    .dataframe thead th {\n",
              "        text-align: right;\n",
              "    }\n",
              "</style>\n",
              "<table border=\"1\" class=\"dataframe\">\n",
              "  <thead>\n",
              "    <tr style=\"text-align: right;\">\n",
              "      <th></th>\n",
              "      <th>BlueCars_taken_sum</th>\n",
              "      <th>BlueCars_returned_sum</th>\n",
              "    </tr>\n",
              "  </thead>\n",
              "  <tbody>\n",
              "    <tr>\n",
              "      <th>BlueCars_taken_sum</th>\n",
              "      <td>1.000000</td>\n",
              "      <td>0.970754</td>\n",
              "    </tr>\n",
              "    <tr>\n",
              "      <th>BlueCars_returned_sum</th>\n",
              "      <td>0.970754</td>\n",
              "      <td>1.000000</td>\n",
              "    </tr>\n",
              "  </tbody>\n",
              "</table>\n",
              "</div>"
            ],
            "text/plain": [
              "                       BlueCars_taken_sum  BlueCars_returned_sum\n",
              "BlueCars_taken_sum               1.000000               0.970754\n",
              "BlueCars_returned_sum            0.970754               1.000000"
            ]
          },
          "metadata": {
            "tags": []
          },
          "execution_count": 130
        }
      ]
    },
    {
      "cell_type": "code",
      "metadata": {
        "colab": {
          "base_uri": "https://localhost:8080/",
          "height": 331
        },
        "id": "8B2g_7xNhnKG",
        "outputId": "511b1a58-f1f2-435e-a83e-546fb90cd26b"
      },
      "source": [
        "# Plotting a correlation heatmap\n",
        "#\n",
        "sns.heatmap(correlation, xticklabels=correlation.columns, yticklabels=correlation.columns, annot=True)"
      ],
      "execution_count": 131,
      "outputs": [
        {
          "output_type": "execute_result",
          "data": {
            "text/plain": [
              "<matplotlib.axes._subplots.AxesSubplot at 0x7fba72380d10>"
            ]
          },
          "metadata": {
            "tags": []
          },
          "execution_count": 131
        },
        {
          "output_type": "display_data",
          "data": {
            "image/png": "[encoded data removed]",
            "text/plain": [
              "<Figure size 432x288 with 2 Axes>"
            ]
          },
          "metadata": {
            "tags": [],
            "needs_background": "light"
          }
        }
      ]
    },
    {
      "cell_type": "markdown",
      "metadata": {
        "id": "BRpxspMam9P9"
      },
      "source": [
        "> Our numerical columns have 0.97% correlation, indicating that they are strongly positively correlated."
      ]
    },
    {
      "cell_type": "code",
      "metadata": {
        "colab": {
          "base_uri": "https://localhost:8080/",
          "height": 316
        },
        "id": "FceTs5munS2A",
        "outputId": "13ff8686-639b-441d-da25-6979d1a91731"
      },
      "source": [
        "# Creating a scatterplot to check the linear regression betweeen our columns\n",
        "#\n",
        "sns.regplot(x = df_sample['BlueCars_taken_sum' ], y = df_sample[ 'BlueCars_returned_sum'], fit_reg=False)\n",
        "\n",
        "plt.title(\"Scatter plot of BlueCars taken vs BlueCars returned\", fontsize=15, y=1.015)\n",
        "plt.xlabel('BlueCars taken', fontsize=14, labelpad=15)\n",
        "plt.ylabel('BlueCars returned', fontsize=14, labelpad=15)\n",
        "plt.show()"
      ],
      "execution_count": 132,
      "outputs": [
        {
          "output_type": "display_data",
          "data": {
            "image/png": "[encoded data removed]",
            "text/plain": [
              "<Figure size 432x288 with 1 Axes>"
            ]
          },
          "metadata": {
            "tags": [],
            "needs_background": "light"
          }
        }
      ]
    },
    {
      "cell_type": "markdown",
      "metadata": {
        "id": "IJ6l2V1Un763"
      },
      "source": [
        "We can see that our columns have a positive linear relationship and are correlated\n",
        "\n"
      ]
    },
    {
      "cell_type": "markdown",
      "metadata": {
        "id": "iXsCFTCikqag"
      },
      "source": [
        "####QQ plot to check for normality of the data"
      ]
    },
    {
      "cell_type": "code",
      "metadata": {
        "colab": {
          "base_uri": "https://localhost:8080/",
          "height": 387
        },
        "id": "OirTIS4ckDPJ",
        "outputId": "81033ce9-a30d-41b8-8e88-9fbbba392cb7"
      },
      "source": [
        "# Importing libraries to plot our Q-Q plot\n",
        "#\n",
        "from statsmodels.graphics.gofplots import qqplot\n",
        "from matplotlib import pyplot\n",
        "\n",
        "# seed the random number generator\n",
        "#\n",
        "np.random.seed(1)\n",
        "\n",
        "# q-q plot\n",
        "qqplot(df_sample, line='s')\n",
        "pyplot.show()\n"
      ],
      "execution_count": 134,
      "outputs": [
        {
          "output_type": "error",
          "ename": "TypeError",
          "evalue": "ignored",
          "traceback": [
            "\u001b[0;31m---------------------------------------------------------------------------\u001b[0m",
            "\u001b[0;31mTypeError\u001b[0m                                 Traceback (most recent call last)",
            "\u001b[0;32m<ipython-input-134-9aded5928173>\u001b[0m in \u001b[0;36m<module>\u001b[0;34m()\u001b[0m\n\u001b[1;32m      9\u001b[0m \u001b[0;34m\u001b[0m\u001b[0m\n\u001b[1;32m     10\u001b[0m \u001b[0;31m# q-q plot\u001b[0m\u001b[0;34m\u001b[0m\u001b[0;34m\u001b[0m\u001b[0;34m\u001b[0m\u001b[0m\n\u001b[0;32m---> 11\u001b[0;31m \u001b[0mqqplot\u001b[0m\u001b[0;34m(\u001b[0m\u001b[0mdf_sample\u001b[0m\u001b[0;34m,\u001b[0m \u001b[0mline\u001b[0m\u001b[0;34m=\u001b[0m\u001b[0;34m's'\u001b[0m\u001b[0;34m)\u001b[0m\u001b[0;34m\u001b[0m\u001b[0;34m\u001b[0m\u001b[0m\n\u001b[0m\u001b[1;32m     12\u001b[0m \u001b[0mpyplot\u001b[0m\u001b[0;34m.\u001b[0m\u001b[0mshow\u001b[0m\u001b[0;34m(\u001b[0m\u001b[0;34m)\u001b[0m\u001b[0;34m\u001b[0m\u001b[0;34m\u001b[0m\u001b[0m\n",
            "\u001b[0;32m/usr/local/lib/python3.7/dist-packages/statsmodels/graphics/gofplots.py\u001b[0m in \u001b[0;36mqqplot\u001b[0;34m(data, dist, distargs, a, loc, scale, fit, line, ax, **plotkwargs)\u001b[0m\n\u001b[1;32m    578\u001b[0m     \"\"\"\n\u001b[1;32m    579\u001b[0m     probplot = ProbPlot(data, dist=dist, distargs=distargs,\n\u001b[0;32m--> 580\u001b[0;31m                          fit=fit, a=a, loc=loc, scale=scale)\n\u001b[0m\u001b[1;32m    581\u001b[0m     \u001b[0mfig\u001b[0m \u001b[0;34m=\u001b[0m \u001b[0mprobplot\u001b[0m\u001b[0;34m.\u001b[0m\u001b[0mqqplot\u001b[0m\u001b[0;34m(\u001b[0m\u001b[0max\u001b[0m\u001b[0;34m=\u001b[0m\u001b[0max\u001b[0m\u001b[0;34m,\u001b[0m \u001b[0mline\u001b[0m\u001b[0;34m=\u001b[0m\u001b[0mline\u001b[0m\u001b[0;34m,\u001b[0m \u001b[0;34m**\u001b[0m\u001b[0mplotkwargs\u001b[0m\u001b[0;34m)\u001b[0m\u001b[0;34m\u001b[0m\u001b[0;34m\u001b[0m\u001b[0m\n\u001b[1;32m    582\u001b[0m     \u001b[0;32mreturn\u001b[0m \u001b[0mfig\u001b[0m\u001b[0;34m\u001b[0m\u001b[0;34m\u001b[0m\u001b[0m\n",
            "\u001b[0;32m/usr/local/lib/python3.7/dist-packages/statsmodels/graphics/gofplots.py\u001b[0m in \u001b[0;36m__init__\u001b[0;34m(self, data, dist, fit, distargs, a, loc, scale)\u001b[0m\n\u001b[1;32m    174\u001b[0m             \u001b[0mdist\u001b[0m \u001b[0;34m=\u001b[0m \u001b[0mgetattr\u001b[0m\u001b[0;34m(\u001b[0m\u001b[0mstats\u001b[0m\u001b[0;34m,\u001b[0m \u001b[0mdist\u001b[0m\u001b[0;34m)\u001b[0m\u001b[0;34m\u001b[0m\u001b[0;34m\u001b[0m\u001b[0m\n\u001b[1;32m    175\u001b[0m \u001b[0;34m\u001b[0m\u001b[0m\n\u001b[0;32m--> 176\u001b[0;31m         \u001b[0mself\u001b[0m\u001b[0;34m.\u001b[0m\u001b[0mfit_params\u001b[0m \u001b[0;34m=\u001b[0m \u001b[0mdist\u001b[0m\u001b[0;34m.\u001b[0m\u001b[0mfit\u001b[0m\u001b[0;34m(\u001b[0m\u001b[0mdata\u001b[0m\u001b[0;34m)\u001b[0m\u001b[0;34m\u001b[0m\u001b[0;34m\u001b[0m\u001b[0m\n\u001b[0m\u001b[1;32m    177\u001b[0m         \u001b[0;32mif\u001b[0m \u001b[0mfit\u001b[0m\u001b[0;34m:\u001b[0m\u001b[0;34m\u001b[0m\u001b[0;34m\u001b[0m\u001b[0m\n\u001b[1;32m    178\u001b[0m             \u001b[0mself\u001b[0m\u001b[0;34m.\u001b[0m\u001b[0mloc\u001b[0m \u001b[0;34m=\u001b[0m \u001b[0mself\u001b[0m\u001b[0;34m.\u001b[0m\u001b[0mfit_params\u001b[0m\u001b[0;34m[\u001b[0m\u001b[0;34m-\u001b[0m\u001b[0;36m2\u001b[0m\u001b[0;34m]\u001b[0m\u001b[0;34m\u001b[0m\u001b[0;34m\u001b[0m\u001b[0m\n",
            "\u001b[0;32m/usr/local/lib/python3.7/dist-packages/scipy/stats/_continuous_distns.py\u001b[0m in \u001b[0;36mfit\u001b[0;34m(self, data, **kwds)\u001b[0m\n\u001b[1;32m    285\u001b[0m         \u001b[0mdata\u001b[0m \u001b[0;34m=\u001b[0m \u001b[0mnp\u001b[0m\u001b[0;34m.\u001b[0m\u001b[0masarray\u001b[0m\u001b[0;34m(\u001b[0m\u001b[0mdata\u001b[0m\u001b[0;34m)\u001b[0m\u001b[0;34m\u001b[0m\u001b[0;34m\u001b[0m\u001b[0m\n\u001b[1;32m    286\u001b[0m \u001b[0;34m\u001b[0m\u001b[0m\n\u001b[0;32m--> 287\u001b[0;31m         \u001b[0;32mif\u001b[0m \u001b[0;32mnot\u001b[0m \u001b[0mnp\u001b[0m\u001b[0;34m.\u001b[0m\u001b[0misfinite\u001b[0m\u001b[0;34m(\u001b[0m\u001b[0mdata\u001b[0m\u001b[0;34m)\u001b[0m\u001b[0;34m.\u001b[0m\u001b[0mall\u001b[0m\u001b[0;34m(\u001b[0m\u001b[0;34m)\u001b[0m\u001b[0;34m:\u001b[0m\u001b[0;34m\u001b[0m\u001b[0;34m\u001b[0m\u001b[0m\n\u001b[0m\u001b[1;32m    288\u001b[0m             \u001b[0;32mraise\u001b[0m \u001b[0mRuntimeError\u001b[0m\u001b[0;34m(\u001b[0m\u001b[0;34m\"The data contains non-finite values.\"\u001b[0m\u001b[0;34m)\u001b[0m\u001b[0;34m\u001b[0m\u001b[0;34m\u001b[0m\u001b[0m\n\u001b[1;32m    289\u001b[0m \u001b[0;34m\u001b[0m\u001b[0m\n",
            "\u001b[0;31mTypeError\u001b[0m: ufunc 'isfinite' not supported for the input types, and the inputs could not be safely coerced to any supported types according to the casting rule ''safe''"
          ]
        }
      ]
    },
    {
      "cell_type": "markdown",
      "metadata": {
        "id": "FIKOEM-FrlTw"
      },
      "source": [
        "##### Summary\n",
        "> From our bivariate analysis, we can see that there exists a strong linear relations between the number of cars taken and the numer of cars returned.\n",
        "> From the QQplot, we can see that our data fits into the normal distribution"
      ]
    },
    {
      "cell_type": "markdown",
      "metadata": {
        "id": "vTbdjSrhVIiT"
      },
      "source": [
        "## 8. Implementing the Solution"
      ]
    },
    {
      "cell_type": "markdown",
      "metadata": {
        "id": "WzMwNBZJwtEd"
      },
      "source": [
        "\n",
        "In this section, we shall carry out Hypothesis testing. The steps to be followed are:\n",
        "> Step 1: Formulate the null hypothesis and the alternative hypothesis\n",
        "\n",
        "> Step 2: Identify a test statistic and significance level that can be used to assess the truth of the null hypothesis.\n",
        "\n",
        "> Step 3: Computing the test-statistic and P-value. The smaller the P-value, the stronger the evidence against the null hypothesis.\n",
        "\n",
        "> Step 4: Analyze the results and either accept or reject the null hypothesis.\n",
        "\n",
        "> Step 5: Interpreting the Results"
      ]
    },
    {
      "cell_type": "markdown",
      "metadata": {
        "id": "dvMYLzQsy1G0"
      },
      "source": [
        "### Step 1: Formulate the null hypothesis and the alternative hypothesis\n",
        "\n",
        "Our null & alternative hypotheses are:\n",
        "\n",
        "> H₀ :μ(Blue Cars taken on weekend) = μ(Blue Cars returned on weekend)\n",
        "\n",
        "> H₁ :μ(Blue Cars taken on weekend) ≠ μ(Blue Cars returned on weekend)\n"
      ]
    },
    {
      "cell_type": "markdown",
      "metadata": {
        "id": "LpQyqYsezCpS"
      },
      "source": [
        "### Step 2: Identify a test statistic and significance level that can be used to assess the truth of the null hypothesis."
      ]
    },
    {
      "cell_type": "markdown",
      "metadata": {
        "id": "2ErtwQvL871W"
      },
      "source": [
        "> For our sample, we shall use a significance level of 5%\n",
        "> We shall use a 2 paired sample z=test as we have 2 datasets, our sample contains more than 30 values and our samples are independent of each other."
      ]
    },
    {
      "cell_type": "markdown",
      "metadata": {
        "id": "BetO9r6M9cm7"
      },
      "source": [
        "### Step 3: Computing the test-statistic and P-value. The smaller the P-value, the stronger the evidence against the null hypothesis."
      ]
    },
    {
      "cell_type": "code",
      "metadata": {
        "id": "PJLZaRzJXJ3w",
        "colab": {
          "base_uri": "https://localhost:8080/"
        },
        "outputId": "165d366f-4d9f-4a70-fc7b-4283c9983a35"
      },
      "source": [
        "# Mean of first sample\n",
        "#\n",
        "x1 = df_sample['BlueCars_taken_sum'].mean()\n",
        "x1"
      ],
      "execution_count": 135,
      "outputs": [
        {
          "output_type": "execute_result",
          "data": {
            "text/plain": [
              "1072.7727272727273"
            ]
          },
          "metadata": {
            "tags": []
          },
          "execution_count": 135
        }
      ]
    },
    {
      "cell_type": "code",
      "metadata": {
        "colab": {
          "base_uri": "https://localhost:8080/"
        },
        "id": "lr4nrzNHBpmM",
        "outputId": "6bce0084-d5c1-4d8c-b001-ee023199c07a"
      },
      "source": [
        "# Mean of second sample\n",
        "#\n",
        "x2 = df_sample['BlueCars_returned_sum'].mean()\n",
        "x2"
      ],
      "execution_count": 136,
      "outputs": [
        {
          "output_type": "execute_result",
          "data": {
            "text/plain": [
              "1084.25"
            ]
          },
          "metadata": {
            "tags": []
          },
          "execution_count": 136
        }
      ]
    },
    {
      "cell_type": "code",
      "metadata": {
        "colab": {
          "base_uri": "https://localhost:8080/"
        },
        "id": "0R5Q9IpuB7Vt",
        "outputId": "1519ee8f-00a2-4e48-e75a-75e28be71539"
      },
      "source": [
        "# Std deviation of first sample\n",
        "#\n",
        "sd1 = df_sample['BlueCars_taken_sum'].std()\n",
        "sd1"
      ],
      "execution_count": 137,
      "outputs": [
        {
          "output_type": "execute_result",
          "data": {
            "text/plain": [
              "211.90913625796864"
            ]
          },
          "metadata": {
            "tags": []
          },
          "execution_count": 137
        }
      ]
    },
    {
      "cell_type": "code",
      "metadata": {
        "colab": {
          "base_uri": "https://localhost:8080/"
        },
        "id": "u36-c1CbCF5-",
        "outputId": "7dee09b7-45f3-4e21-b68a-5f34726bfad0"
      },
      "source": [
        "# Std deviation of second sample\n",
        "#\n",
        "sd2 = df_sample['BlueCars_returned_sum'].std()\n",
        "sd2"
      ],
      "execution_count": 138,
      "outputs": [
        {
          "output_type": "execute_result",
          "data": {
            "text/plain": [
              "199.1777428725759"
            ]
          },
          "metadata": {
            "tags": []
          },
          "execution_count": 138
        }
      ]
    },
    {
      "cell_type": "code",
      "metadata": {
        "colab": {
          "base_uri": "https://localhost:8080/"
        },
        "id": "LyjD0YSHChPN",
        "outputId": "09ea1dbd-d90b-4116-ad79-1aa3ed592e71"
      },
      "source": [
        "# Size of first sample\n",
        "#\n",
        "n1 = df_sample['BlueCars_taken_sum'].count()\n",
        "n1"
      ],
      "execution_count": 139,
      "outputs": [
        {
          "output_type": "execute_result",
          "data": {
            "text/plain": [
              "44"
            ]
          },
          "metadata": {
            "tags": []
          },
          "execution_count": 139
        }
      ]
    },
    {
      "cell_type": "code",
      "metadata": {
        "colab": {
          "base_uri": "https://localhost:8080/"
        },
        "id": "4I1QvdQhCtLN",
        "outputId": "ef9bf400-c30b-4e9e-88eb-303495acaa9c"
      },
      "source": [
        "# Size of second sample\n",
        "#\n",
        "n2 = df_sample['BlueCars_returned_sum'].count()\n",
        "n2"
      ],
      "execution_count": 140,
      "outputs": [
        {
          "output_type": "execute_result",
          "data": {
            "text/plain": [
              "44"
            ]
          },
          "metadata": {
            "tags": []
          },
          "execution_count": 140
        }
      ]
    },
    {
      "cell_type": "code",
      "metadata": {
        "colab": {
          "base_uri": "https://localhost:8080/"
        },
        "id": "0kg7J7xuC5lc",
        "outputId": "42220506-012e-4622-db7e-7a7fb0f72ca8"
      },
      "source": [
        "# Computing the test-statistic and P-value\n",
        "#\n",
        "def twoSampZ(X1, X2, mudiff, sd1, sd2, n1, n2):\n",
        "    from numpy import sqrt, abs, round\n",
        "    from scipy.stats import norm\n",
        "    pooledSE = sqrt(sd1**2/n1 + sd2**2/n2)\n",
        "    z = ((X1 - X2) - mudiff)/pooledSE\n",
        "    pval = 2*(1 - norm.cdf(abs(z)))\n",
        "    return round(z, 3), round(pval, 4)\n",
        "\n",
        "z, p = twoSampZ(x1, x2, 0, sd1, sd2,n1,n2)\n",
        "print (z, p)"
      ],
      "execution_count": 141,
      "outputs": [
        {
          "output_type": "stream",
          "text": [
            "-0.262 0.7935\n"
          ],
          "name": "stdout"
        }
      ]
    },
    {
      "cell_type": "markdown",
      "metadata": {
        "id": "-iu75muI4XWe"
      },
      "source": [
        "### Step 4: Analyze the results and either accept or reject the null hypothesis.\n"
      ]
    },
    {
      "cell_type": "markdown",
      "metadata": {
        "id": "oIUIhlG91syp"
      },
      "source": [
        "> Our p-value is 0.7935 which is greater than our signicance level, giving us no evidence to reject our null hypothesis. Thus, we shall accept our null hypothesis."
      ]
    },
    {
      "cell_type": "markdown",
      "metadata": {
        "id": "IbihKLSN4jcg"
      },
      "source": [
        "### Step 5: Interpreting the Results"
      ]
    },
    {
      "cell_type": "markdown",
      "metadata": {
        "id": "0bk_fdgI5Bx7"
      },
      "source": [
        "> Our results mean that there is a 79.35% chance that the mean number of blue cars taken over the weekend is equal to the mean number of blue cars returned during the weekend. Thus, we can confidently say that clients who take blue cars over the weekend, will return them during the weekend."
      ]
    },
    {
      "cell_type": "markdown",
      "metadata": {
        "id": "bOnpcdDX7oMl"
      },
      "source": [
        "### Point Estimate"
      ]
    },
    {
      "cell_type": "code",
      "metadata": {
        "colab": {
          "base_uri": "https://localhost:8080/"
        },
        "id": "abvRaNQ27soz",
        "outputId": "c92c8c64-0c83-4e69-baca-12f06f154a9f"
      },
      "source": [
        "# We wil use the \"seed\" value of 10. \n",
        "#\n",
        "np.random.seed(10)\n",
        "\n",
        "# Use the stats module to generate random variables for our population. Here we specify our abitrary mean and a standard deviation, which are loc and scale respectively\n",
        "#\n",
        "df = stats.norm.rvs(loc=165, scale=1, size=12000)\n",
        "print ( df )  \n",
        "\n",
        "# Calculate the population mean\n",
        "#\n",
        "df.mean()\n"
      ],
      "execution_count": 142,
      "outputs": [
        {
          "output_type": "stream",
          "text": [
            "[166.3315865  165.71527897 163.45459971 ... 164.23492813 165.93433224\n",
            " 164.96061071]\n"
          ],
          "name": "stdout"
        },
        {
          "output_type": "execute_result",
          "data": {
            "text/plain": [
              "165.0052858249647"
            ]
          },
          "metadata": {
            "tags": []
          },
          "execution_count": 142
        }
      ]
    },
    {
      "cell_type": "code",
      "metadata": {
        "colab": {
          "base_uri": "https://localhost:8080/"
        },
        "id": "fAp__puV_cyt",
        "outputId": "f6f319aa-0ec8-4d7d-970a-40c25bf250f7"
      },
      "source": [
        "np.random.seed(6)\n",
        "# Sample 1000 values\n",
        "#\n",
        "df_sample = np.random.choice(a= df, size=500000)            \n",
        "\n",
        "# Show sample mean\n",
        "#\n",
        "print (df_sample.mean() )                         \n",
        "\n",
        "df.mean().mean() - df_sample.mean()"
      ],
      "execution_count": 143,
      "outputs": [
        {
          "output_type": "stream",
          "text": [
            "165.00447335360178\n"
          ],
          "name": "stdout"
        },
        {
          "output_type": "execute_result",
          "data": {
            "text/plain": [
              "0.0008124713629058533"
            ]
          },
          "metadata": {
            "tags": []
          },
          "execution_count": 143
        }
      ]
    },
    {
      "cell_type": "markdown",
      "metadata": {
        "id": "lQ2G4ZPDVOXE"
      },
      "source": [
        "## 9. Challenging the solution"
      ]
    },
    {
      "cell_type": "markdown",
      "metadata": {
        "id": "jWVGKGuiYMWg"
      },
      "source": [
        "> The easy solution is nice because it is, well, easy, but you should never allow those results to hold the day. You should always be thinking of ways to challenge the results, especially if those results comport with your prior expectation.\n",
        "\n",
        "\n",
        "\n",
        "\n"
      ]
    },
    {
      "cell_type": "markdown",
      "metadata": {
        "id": "xrmHVMVsVS--"
      },
      "source": [
        "## 10. Follow up questions"
      ]
    },
    {
      "cell_type": "markdown",
      "metadata": {
        "id": "pth2qSWhuBIy"
      },
      "source": [
        "> At this point, we can refine our question or collect new data, all in an iterative process to get at the truth.\n",
        "\n"
      ]
    },
    {
      "cell_type": "markdown",
      "metadata": {
        "id": "HPQviDmNtta8"
      },
      "source": [
        "### a). Did we have the right data?\n",
        "\n",
        "Yes, we have the right data to test our hypothesis."
      ]
    },
    {
      "cell_type": "markdown",
      "metadata": {
        "id": "qjFHK1CKty7o"
      },
      "source": [
        "### b). Do we need other data to answer our question?\n",
        "\n",
        "We do not need other data as the data provided was more than sufficient to  test our hypothesis."
      ]
    },
    {
      "cell_type": "markdown",
      "metadata": {
        "id": "HSsicSdvt4Zs"
      },
      "source": [
        "### c). Did we have the right question?\n",
        "We do, however we can add more questions to give more validity to our claim.\n"
      ]
    }
  ]
}